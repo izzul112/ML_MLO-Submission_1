{
  "nbformat": 4,
  "nbformat_minor": 0,
  "metadata": {
    "colab": {
      "provenance": [],
      "authorship_tag": "ABX9TyN6UMyb6Q0Zt8F4IrziSJP4",
      "include_colab_link": true
    },
    "kernelspec": {
      "name": "python3",
      "display_name": "Python 3"
    },
    "language_info": {
      "name": "python"
    }
  },
  "cells": [
    {
      "cell_type": "markdown",
      "metadata": {
        "id": "view-in-github",
        "colab_type": "text"
      },
      "source": [
        "<a href=\"https://colab.research.google.com/github/izzul112/ML_MLO-Submission_1/blob/main/mlop_submission1.ipynb\" target=\"_parent\"><img src=\"https://colab.research.google.com/assets/colab-badge.svg\" alt=\"Open In Colab\"/></a>"
      ]
    },
    {
      "cell_type": "markdown",
      "source": [
        "## **Tahap Persiapan**\n",
        "\n",
        "Di tahap ini kita akan menginsatall semua library yang di butuhkan serta membuat virtual environment."
      ],
      "metadata": {
        "id": "wLCOcXnJVMHN"
      }
    },
    {
      "cell_type": "markdown",
      "source": [
        "1. Install condacolab"
      ],
      "metadata": {
        "id": "p3vP1VHZTVLj"
      }
    },
    {
      "cell_type": "code",
      "execution_count": null,
      "metadata": {
        "id": "f3-YCkx_PYy6"
      },
      "outputs": [],
      "source": [
        "!pip install -q condacolab\n",
        "import condacolab\n",
        "condacolab.install()"
      ]
    },
    {
      "cell_type": "markdown",
      "source": [
        "2. Cek versinya jika perlu"
      ],
      "metadata": {
        "id": "vGuf7jgZTgaO"
      }
    },
    {
      "cell_type": "code",
      "source": [
        "!conda --version"
      ],
      "metadata": {
        "id": "md365G5gRlpZ"
      },
      "execution_count": null,
      "outputs": []
    },
    {
      "cell_type": "markdown",
      "source": [
        "3. Buat conda virtual environment, kita berinama mlops-tfx-sub-1"
      ],
      "metadata": {
        "id": "hi7tjn3DTkG3"
      }
    },
    {
      "cell_type": "code",
      "source": [
        "!conda create --name mlops-tfx-sub-1 python==3.9.15"
      ],
      "metadata": {
        "id": "LyuzwBWbRpMB"
      },
      "execution_count": null,
      "outputs": []
    },
    {
      "cell_type": "markdown",
      "source": [
        "4. Aktifkan conda virtual environment-nya"
      ],
      "metadata": {
        "id": "jodlCyrnTuvw"
      }
    },
    {
      "cell_type": "code",
      "source": [
        "!conda activate mlops-tfx-sub-1"
      ],
      "metadata": {
        "id": "x020_u_dRtwY"
      },
      "execution_count": null,
      "outputs": []
    },
    {
      "cell_type": "code",
      "source": [
        "!git clone https://github.com/izzul112/ML_MLO-Submission_1.git"
      ],
      "metadata": {
        "colab": {
          "base_uri": "https://localhost:8080/"
        },
        "id": "akX5o63XZPTI",
        "outputId": "3784bb3a-4312-4a3c-aa45-28c17287dfe6"
      },
      "execution_count": 2,
      "outputs": [
        {
          "output_type": "stream",
          "name": "stdout",
          "text": [
            "Cloning into 'ML_MLO-Submission_1'...\n",
            "remote: Enumerating objects: 22, done.\u001b[K\n",
            "remote: Counting objects: 100% (22/22), done.\u001b[K\n",
            "remote: Compressing objects: 100% (14/14), done.\u001b[K\n",
            "remote: Total 22 (delta 4), reused 0 (delta 0), pack-reused 0\u001b[K\n",
            "Unpacking objects: 100% (22/22), 6.76 KiB | 1.35 MiB/s, done.\n"
          ]
        }
      ]
    }
  ]
}