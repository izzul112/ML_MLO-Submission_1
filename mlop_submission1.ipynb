{
  "cells": [
    {
      "cell_type": "markdown",
      "metadata": {
        "id": "view-in-github",
        "colab_type": "text"
      },
      "source": [
        "<a href=\"https://colab.research.google.com/github/izzul112/ML_MLO-Submission_1/blob/main/mlop_submission1.ipynb\" target=\"_parent\"><img src=\"https://colab.research.google.com/assets/colab-badge.svg\" alt=\"Open In Colab\"/></a>"
      ]
    },
    {
      "cell_type": "markdown",
      "metadata": {
        "id": "PwLPZLvbyo2H"
      },
      "source": [
        "# **Submission 1: Klasifikasi Email spam atau bukan spam**\n",
        "\n",
        "Nama: Habib Azizul Haq\n",
        "\n",
        "Username dicoding: kuroba_izzul\n",
        "\n",
        "Mendapat sebuah email dari seorang kenalan, membacanya dan kemudian membalasnya adalah hal yang cukup menyenangkan. Namun terkadang kita juga mendapat email yang berisi sesuatu yang tidak kita pahami atau mengerti, nah itulah yang sering kita sebut dengan email spam. Tentunya kita semua tidak ingin email spam itu muncul di beranda email kita, karena selain mengganggu dan tak sedap di pandang mata. Email spam juga terkadang berisi link-link yang berbahaya. Tentunya kita tidak ingin mengalami salah membuka email, terus juga secara tidak sengaja menekan link email tersebut, bisa-bisa semua data pribadi kita diambil atau kita secara tidak sadar telah memberikan akses kepada orang yang tidak bertanggung jawab kepada gawai kita.\n",
        "\n",
        "Tenang tidak perlu panik kita akan membuat sebuah model machine learning untuk menjawab permasalahan tersebut. Kita akan membuat model untuk medeteksi apakah sebuah email itu spam atau bukan."
      ]
    },
    {
      "cell_type": "markdown",
      "metadata": {
        "id": "wLCOcXnJVMHN"
      },
      "source": [
        "## **Tahap Persiapan**\n",
        "\n",
        "Di tahap ini kita akan menginsatall semua library yang di butuhkan serta membuat virtual environment."
      ]
    },
    {
      "cell_type": "markdown",
      "metadata": {
        "id": "p3vP1VHZTVLj"
      },
      "source": [
        "1. Install condacolab"
      ]
    },
    {
      "cell_type": "code",
      "execution_count": null,
      "metadata": {
        "colab": {
          "base_uri": "https://localhost:8080/"
        },
        "id": "f3-YCkx_PYy6",
        "outputId": "63e01e70-e290-446f-b500-9f78f156be34"
      },
      "outputs": [
        {
          "name": "stdout",
          "output_type": "stream",
          "text": [
            "\u001b[33mWARNING: Running pip as the 'root' user can result in broken permissions and conflicting behaviour with the system package manager. It is recommended to use a virtual environment instead: https://pip.pypa.io/warnings/venv\u001b[0m\u001b[33m\n",
            "\u001b[0m✨🍰✨ Everything looks OK!\n"
          ]
        }
      ],
      "source": [
        "!pip install -q condacolab\n",
        "import condacolab\n",
        "condacolab.install()"
      ]
    },
    {
      "cell_type": "markdown",
      "metadata": {
        "id": "vGuf7jgZTgaO"
      },
      "source": [
        "2. Cek versinya jika perlu"
      ]
    },
    {
      "cell_type": "code",
      "execution_count": null,
      "metadata": {
        "colab": {
          "base_uri": "https://localhost:8080/"
        },
        "id": "md365G5gRlpZ",
        "outputId": "405a382a-7527-4141-888d-e9c97d37e7cf"
      },
      "outputs": [
        {
          "name": "stdout",
          "output_type": "stream",
          "text": [
            "conda 22.9.0\n"
          ]
        }
      ],
      "source": [
        "!conda --version"
      ]
    },
    {
      "cell_type": "markdown",
      "metadata": {
        "id": "hi7tjn3DTkG3"
      },
      "source": [
        "3. Buat conda virtual environment, kita berinama mlops-tfx-sub-1"
      ]
    },
    {
      "cell_type": "code",
      "execution_count": null,
      "metadata": {
        "colab": {
          "background_save": true,
          "base_uri": "https://localhost:8080/"
        },
        "id": "LyuzwBWbRpMB",
        "outputId": "f43c6563-570f-4bec-f350-db5ce6bdf402"
      },
      "outputs": [
        {
          "name": "stdout",
          "output_type": "stream",
          "text": [
            "Collecting package metadata (current_repodata.json): - \b\b\\ \b\b| \b\b/ \b\b- \b\b\\ \b\b| \b\b/ \b\b- \b\b\\ \b\b| \b\b/ \b\b- \b\b\\ \b\b| \b\b/ \b\b- \b\b\\ \b\b| \b\b/ \b\b- \b\b\\ \b\b| \b\b/ \b\b- \b\b\\ \b\b| \b\b/ \b\b- \b\b\\ \b\b| \b\b/ \b\b- \b\b\\ \b\b| \b\b/ \b\b- \b\b\\ \b\b| \b\b/ \b\b- \b\b\\ \b\b| \b\b/ \b\b- \b\b\\ \b\b| \b\b/ \b\b- \b\b\\ \b\b| \b\b/ \b\b- \b\b\\ \b\b| \b\b/ \b\b- \b\b\\ \b\b| \b\b/ \b\b- \b\b\\ \b\b| \b\b/ \b\b- \b\b\\ \b\b| \b\b/ \b\b- \b\b\\ \b\b| \b\b/ \b\bdone\n",
            "Solving environment: \\ \b\bfailed with repodata from current_repodata.json, will retry with next repodata source.\n",
            "Collecting package metadata (repodata.json): / \b\b- \b\b\\ \b\b| \b\b/ \b\b- \b\b\\ \b\b| \b\b/ \b\b- \b\b\\ \b\b| \b\b/ \b\b- \b\b\\ \b\b| \b\b/ \b\b- \b\b\\ \b\b| \b\b/ \b\b- \b\b\\ \b\b| \b\b/ \b\b- \b\b\\ \b\b| \b\b/ \b\b- \b\b\\ \b\b| \b\b/ \b\b- \b\b\\ \b\b| \b\b/ \b\b- \b\b\\ \b\b| \b\b/ \b\b- \b\b\\ \b\b| \b\b/ \b\b- \b\b\\ \b\b| \b\b/ \b\b- \b\b\\ \b\b| \b\b/ \b\b- \b\b\\ \b\b| \b\b/ \b\b- \b\b\\ \b\b| \b\b/ \b\b- \b\b\\ \b\b| \b\b/ \b\b- \b\b\\ \b\b| \b\b/ \b\b- \b\b\\ \b\b| \b\b/ \b\b- \b\b\\ \b\b| \b\b/ \b\b- \b\b\\ \b\b| \b\b/ \b\b- \b\b\\ \b\b| \b\b/ \b\b- \b\b\\ \b\b| \b\b/ \b\b- \b\b\\ \b\b| \b\b/ \b\b- \b\b\\ \b\b| \b\b/ \b\b- \b\b\\ \b\b| \b\b/ \b\b- \b\b\\ \b\b| \b\b/ \b\b- \b\b\\ \b\b| \b\b/ \b\b- \b\b\\ \b\b| \b\b/ \b\b- \b\b\\ \b\b| \b\b/ \b\b- \b\b\\ \b\b| \b\b/ \b\b- \b\b\\ \b\b| \b\b/ \b\b- \b\b\\ \b\b| \b\b/ \b\b- \b\b\\ \b\b| \b\b/ \b\b- \b\b\\ \b\b| \b\b/ \b\b- \b\b\\ \b\b| \b\b/ \b\b- \b\b\\ \b\b| \b\b/ \b\b- \b\b\\ \b\b| \b\b/ \b\b- \b\b\\ \b\b| \b\b/ \b\b- \b\b\\ \b\b| \b\b/ \b\b- \b\b\\ \b\b| \b\b/ \b\b- \b\b\\ \b\b| \b\b/ \b\b- \b\b\\ \b\b| \b\b/ \b\b- \b\b\\ \b\b| \b\b/ \b\b- \b\b\\ \b\b| \b\b/ \b\b- \b\b\\ \b\b| \b\b/ \b\b- \b\b\\ \b\b| \b\b/ \b\b- \b\b\\ \b\b| \b\b/ \b\b- \b\b\\ \b\b| \b\b/ \b\b- \b\b\\ \b\b| \b\b/ \b\b- \b\b\\ \b\b| \b\b/ \b\b- \b\b\\ \b\b| \b\b/ \b\b- \b\b\\ \b\b| \b\b/ \b\b- \b\b\\ \b\b| \b\b/ \b\b- \b\b\\ \b\b| \b\b/ \b\b- \b\b\\ \b\b| \b\b/ \b\b- \b\b\\ \b\b| \b\b/ \b\b- \b\b\\ \b\b| \b\b/ \b\b- \b\b\\ \b\b| \b\b/ \b\b- \b\b\\ \b\b| \b\b/ \b\b- \b\b\\ \b\b| \b\b/ \b\b- \b\b\\ \b\b| \b\b/ \b\b- \b\b\\ \b\b| \b\b/ \b\b- \b\b\\ \b\b| \b\b/ \b\b- \b\b\\ \b\b| \b\b/ \b\b- \b\b\\ \b\b| \b\b/ \b\b- \b\b\\ \b\b| \b\b/ \b\b- \b\b\\ \b\b| \b\b/ \b\b- \b\b\\ \b\b| \b\b/ \b\b- \b\b\\ \b\b| \b\b/ \b\b- \b\b\\ \b\b| \b\b/ \b\bdone\n",
            "Solving environment: \\ \b\b| \b\b/ \b\b- \b\b\\ \b\b| \b\b/ \b\b- \b\b\\ \b\b| \b\b/ \b\b- \b\b\\ \b\b| \b\b/ \b\b- \b\b\\ \b\b| \b\b/ \b\b- \b\b\\ \b\b| \b\b/ \b\b- \b\b\\ \b\b| \b\b/ \b\b- \b\b\\ \b\b| \b\b/ \b\b- \b\b\\ \b\b| \b\b/ \b\b- \b\bdone\n",
            "\n",
            "\n",
            "==> WARNING: A newer version of conda exists. <==\n",
            "  current version: 22.9.0\n",
            "  latest version: 23.1.0\n",
            "\n",
            "Please update conda by running\n",
            "\n",
            "    $ conda update -n base -c conda-forge conda\n",
            "\n",
            "\n",
            "\n",
            "## Package Plan ##\n",
            "\n",
            "  environment location: /usr/local/envs/mlops-tfx-sub-1\n",
            "\n",
            "  added / updated specs:\n",
            "    - python==3.9.15\n",
            "\n",
            "\n",
            "The following NEW packages will be INSTALLED:\n",
            "\n",
            "  _libgcc_mutex      conda-forge/linux-64::_libgcc_mutex-0.1-conda_forge None\n",
            "  _openmp_mutex      conda-forge/linux-64::_openmp_mutex-4.5-2_gnu None\n",
            "  bzip2              conda-forge/linux-64::bzip2-1.0.8-h7f98852_4 None\n",
            "  ca-certificates    conda-forge/linux-64::ca-certificates-2022.12.7-ha878542_0 None\n",
            "  ld_impl_linux-64   conda-forge/linux-64::ld_impl_linux-64-2.40-h41732ed_0 None\n",
            "  libffi             conda-forge/linux-64::libffi-3.4.2-h7f98852_5 None\n",
            "  libgcc-ng          conda-forge/linux-64::libgcc-ng-12.2.0-h65d4601_19 None\n",
            "  libgomp            conda-forge/linux-64::libgomp-12.2.0-h65d4601_19 None\n",
            "  libnsl             conda-forge/linux-64::libnsl-2.0.0-h7f98852_0 None\n",
            "  libsqlite          conda-forge/linux-64::libsqlite-3.40.0-h753d276_0 None\n",
            "  libuuid            conda-forge/linux-64::libuuid-2.32.1-h7f98852_1000 None\n",
            "  libzlib            conda-forge/linux-64::libzlib-1.2.13-h166bdaf_4 None\n",
            "  ncurses            conda-forge/linux-64::ncurses-6.3-h27087fc_1 None\n",
            "  openssl            conda-forge/linux-64::openssl-3.0.8-h0b41bf4_0 None\n",
            "  pip                conda-forge/noarch::pip-23.0.1-pyhd8ed1ab_0 None\n",
            "  python             conda-forge/linux-64::python-3.9.15-hba424b6_0_cpython None\n",
            "  readline           conda-forge/linux-64::readline-8.1.2-h0f457ee_0 None\n",
            "  setuptools         conda-forge/noarch::setuptools-67.4.0-pyhd8ed1ab_0 None\n",
            "  tk                 conda-forge/linux-64::tk-8.6.12-h27826a3_0 None\n",
            "  tzdata             conda-forge/noarch::tzdata-2022g-h191b570_0 None\n",
            "  wheel              conda-forge/noarch::wheel-0.38.4-pyhd8ed1ab_0 None\n",
            "  xz                 conda-forge/linux-64::xz-5.2.6-h166bdaf_0 None\n",
            "\n",
            "\n",
            "Preparing transaction: | \b\b/ \b\b- \b\bdone\n",
            "Verifying transaction: | \b\b/ \b\b- \b\b\\ \b\b| \b\b/ \b\b- \b\b\\ \b\b| \b\b/ \b\b- \b\b\\ \b\b| \b\b/ \b\b- \b\b\\ \b\bdone\n",
            "Executing transaction: / \b\b- \b\b\\ \b\b| \b\b/ \b\b- \b\b\\ \b\b| \b\b/ \b\b- \b\b\\ \b\b| \b\b/ \b\b- \b\b\\ \b\b| \b\b/ \b\b- \b\b\\ \b\b| \b\b/ \b\b- \b\b\\ \b\b| \b\b/ \b\b- \b\b\\ \b\b| \b\b/ \b\b- \b\b\\ \b\b| \b\b/ \b\b- \b\b\\ \b\b| \b\b/ \b\b- \b\b\\ \b\b| \b\b/ \b\b- \b\b\\ \b\b| \b\b/ \b\b- \b\b\\ \b\b| \b\b/ \b\b- \b\bdone\n",
            "#\n",
            "# To activate this environment, use\n",
            "#\n",
            "#     $ conda activate mlops-tfx-sub-1\n",
            "#\n",
            "# To deactivate an active environment, use\n",
            "#\n",
            "#     $ conda deactivate\n",
            "\n",
            "Retrieving notices: ...working... done\n"
          ]
        }
      ],
      "source": [
        "!conda create --name mlops-tfx-sub-1 python==3.9.15"
      ]
    },
    {
      "cell_type": "markdown",
      "metadata": {
        "id": "jodlCyrnTuvw"
      },
      "source": [
        "4. Aktifkan conda virtual environment-nya"
      ]
    },
    {
      "cell_type": "code",
      "execution_count": null,
      "metadata": {
        "colab": {
          "background_save": true
        },
        "id": "x020_u_dRtwY",
        "outputId": "117c57cb-9986-401b-ed73-1b8303fcba22"
      },
      "outputs": [
        {
          "name": "stdout",
          "output_type": "stream",
          "text": [
            "\n",
            "CommandNotFoundError: Your shell has not been properly configured to use 'conda activate'.\n",
            "To initialize your shell, run\n",
            "\n",
            "    $ conda init <SHELL_NAME>\n",
            "\n",
            "Currently supported shells are:\n",
            "  - bash\n",
            "  - fish\n",
            "  - tcsh\n",
            "  - xonsh\n",
            "  - zsh\n",
            "  - powershell\n",
            "\n",
            "See 'conda init --help' for more information and options.\n",
            "\n",
            "IMPORTANT: You may need to close and restart your shell after running 'conda init'.\n",
            "\n",
            "\n"
          ]
        }
      ],
      "source": [
        "!conda activate mlops-tfx-sub-1"
      ]
    },
    {
      "cell_type": "code",
      "execution_count": null,
      "metadata": {
        "colab": {
          "background_save": true
        },
        "id": "akX5o63XZPTI",
        "outputId": "7fd79585-c976-4b61-85f7-490ca963ed43"
      },
      "outputs": [
        {
          "name": "stdout",
          "output_type": "stream",
          "text": [
            "fatal: destination path 'ML_MLO-Submission_1' already exists and is not an empty directory.\n"
          ]
        }
      ],
      "source": [
        "!git clone https://github.com/izzul112/ML_MLO-Submission_1.git"
      ]
    },
    {
      "cell_type": "code",
      "execution_count": null,
      "metadata": {
        "colab": {
          "background_save": true
        },
        "id": "W2y-ZrWfiSp8",
        "outputId": "edb27d51-e7c2-4354-add0-6fed9ddffd1a"
      },
      "outputs": [
        {
          "name": "stdout",
          "output_type": "stream",
          "text": [
            "Looking in indexes: https://pypi.org/simple, https://us-python.pkg.dev/colab-wheels/public/simple/\n",
            "Requirement already satisfied: jupyter in /usr/local/lib/python3.8/site-packages (1.0.0)\n",
            "Requirement already satisfied: scikit-learn in /usr/local/lib/python3.8/site-packages (1.2.1)\n",
            "Requirement already satisfied: tensorflow in /usr/local/lib/python3.8/site-packages (2.10.1)\n",
            "Requirement already satisfied: tfx==1.11.0 in /usr/local/lib/python3.8/site-packages (1.11.0)\n",
            "Requirement already satisfied: flask in /usr/local/lib/python3.8/site-packages (2.0.3)\n",
            "Requirement already satisfied: joblib in /usr/local/lib/python3.8/site-packages (1.2.0)\n",
            "Requirement already satisfied: click<8,>=7 in /usr/local/lib/python3.8/site-packages (from tfx==1.11.0) (7.1.2)\n",
            "Requirement already satisfied: tensorflow-hub<0.13,>=0.9.0 in /usr/local/lib/python3.8/site-packages (from tfx==1.11.0) (0.12.0)\n",
            "Requirement already satisfied: ml-metadata<1.12.0,>=1.11.0 in /usr/local/lib/python3.8/site-packages (from tfx==1.11.0) (1.11.0)\n",
            "Requirement already satisfied: google-cloud-bigquery<3,>=2.26.0 in /usr/local/lib/python3.8/site-packages (from tfx==1.11.0) (2.34.4)\n",
            "Requirement already satisfied: docker<5,>=4.1 in /usr/local/lib/python3.8/site-packages (from tfx==1.11.0) (4.4.4)\n",
            "Requirement already satisfied: portpicker<2,>=1.3.1 in /usr/local/lib/python3.8/site-packages (from tfx==1.11.0) (1.5.2)\n",
            "Requirement already satisfied: apache-beam[gcp]<3,>=2.40 in /usr/local/lib/python3.8/site-packages (from tfx==1.11.0) (2.45.0)\n",
            "Requirement already satisfied: packaging<21,>=20 in /usr/local/lib/python3.8/site-packages (from tfx==1.11.0) (20.9)\n",
            "Requirement already satisfied: tfx-bsl<1.12.0,>=1.11.0 in /usr/local/lib/python3.8/site-packages (from tfx==1.11.0) (1.11.0)\n",
            "Requirement already satisfied: tensorflow-serving-api!=2.0.*,!=2.1.*,!=2.2.*,!=2.3.*,!=2.4.*,!=2.5.*,!=2.6.*,!=2.7.*,!=2.8.*,<3,>=1.15 in /usr/local/lib/python3.8/site-packages (from tfx==1.11.0) (2.10.1)\n",
            "Requirement already satisfied: tensorflow-transform<1.12.0,>=1.11.0 in /usr/local/lib/python3.8/site-packages (from tfx==1.11.0) (1.11.0)\n",
            "Requirement already satisfied: google-api-python-client<2,>=1.8 in /usr/local/lib/python3.8/site-packages (from tfx==1.11.0) (1.12.11)\n",
            "Requirement already satisfied: ml-pipelines-sdk==1.11.0 in /usr/local/lib/python3.8/site-packages (from tfx==1.11.0) (1.11.0)\n",
            "Requirement already satisfied: protobuf<4,>=3.13 in /usr/local/lib/python3.8/site-packages (from tfx==1.11.0) (3.19.6)\n",
            "Requirement already satisfied: jinja2<4,>=2.7.3 in /usr/local/lib/python3.8/site-packages (from tfx==1.11.0) (3.1.2)\n",
            "Requirement already satisfied: pyyaml<6,>=3.12 in /usr/local/lib/python3.8/site-packages (from tfx==1.11.0) (5.4.1)\n",
            "Requirement already satisfied: pyarrow<7,>=6 in /usr/local/lib/python3.8/site-packages (from tfx==1.11.0) (6.0.1)\n",
            "Requirement already satisfied: attrs<22,>=19.3.0 in /usr/local/lib/python3.8/site-packages (from tfx==1.11.0) (21.4.0)\n",
            "Requirement already satisfied: absl-py<2.0.0,>=0.9 in /usr/local/lib/python3.8/site-packages (from tfx==1.11.0) (1.4.0)\n",
            "Requirement already satisfied: numpy<2,>=1.16 in /usr/local/lib/python3.8/site-packages (from tfx==1.11.0) (1.22.4)\n",
            "Requirement already satisfied: keras-tuner<2,>=1.0.4 in /usr/local/lib/python3.8/site-packages (from tfx==1.11.0) (1.3.0)\n",
            "Requirement already satisfied: tensorflow-data-validation<1.12.0,>=1.11.0 in /usr/local/lib/python3.8/site-packages (from tfx==1.11.0) (1.11.0)\n",
            "Requirement already satisfied: grpcio<2,>=1.28.1 in /usr/local/lib/python3.8/site-packages (from tfx==1.11.0) (1.51.3)\n",
            "Requirement already satisfied: google-cloud-aiplatform<1.18,>=1.6.2 in /usr/local/lib/python3.8/site-packages (from tfx==1.11.0) (1.17.1)\n",
            "Requirement already satisfied: google-api-core<1.33 in /usr/local/lib/python3.8/site-packages (from tfx==1.11.0) (1.32.0)\n",
            "Requirement already satisfied: tensorflow-model-analysis<0.43.0,>=0.42.0 in /usr/local/lib/python3.8/site-packages (from tfx==1.11.0) (0.42.0)\n",
            "Requirement already satisfied: typing-extensions<5,>=3.10.0.2 in /usr/local/lib/python3.8/site-packages (from tfx==1.11.0) (4.5.0)\n",
            "Requirement already satisfied: google-apitools<1,>=0.5 in /usr/local/lib/python3.8/site-packages (from tfx==1.11.0) (0.5.31)\n",
            "Requirement already satisfied: kubernetes<13,>=10.0.1 in /usr/local/lib/python3.8/site-packages (from tfx==1.11.0) (12.0.1)\n",
            "Requirement already satisfied: qtconsole in /usr/local/lib/python3.8/site-packages (from jupyter) (5.4.0)\n",
            "Requirement already satisfied: notebook in /usr/local/lib/python3.8/site-packages (from jupyter) (6.5.2)\n",
            "Requirement already satisfied: ipywidgets in /usr/local/lib/python3.8/site-packages (from jupyter) (7.7.3)\n",
            "Requirement already satisfied: jupyter-console in /usr/local/lib/python3.8/site-packages (from jupyter) (6.6.1)\n",
            "Requirement already satisfied: ipykernel in /usr/local/lib/python3.8/site-packages (from jupyter) (6.21.2)\n",
            "Requirement already satisfied: nbconvert in /usr/local/lib/python3.8/site-packages (from jupyter) (7.2.9)\n",
            "Requirement already satisfied: scipy>=1.3.2 in /usr/local/lib/python3.8/site-packages (from scikit-learn) (1.10.1)\n",
            "Requirement already satisfied: threadpoolctl>=2.0.0 in /usr/local/lib/python3.8/site-packages (from scikit-learn) (3.1.0)\n",
            "Requirement already satisfied: gast<=0.4.0,>=0.2.1 in /usr/local/lib/python3.8/site-packages (from tensorflow) (0.4.0)\n",
            "Requirement already satisfied: keras-preprocessing>=1.1.1 in /usr/local/lib/python3.8/site-packages (from tensorflow) (1.1.2)\n",
            "Requirement already satisfied: libclang>=13.0.0 in /usr/local/lib/python3.8/site-packages (from tensorflow) (15.0.6.1)\n",
            "Requirement already satisfied: astunparse>=1.6.0 in /usr/local/lib/python3.8/site-packages (from tensorflow) (1.6.3)\n",
            "Requirement already satisfied: h5py>=2.9.0 in /usr/local/lib/python3.8/site-packages (from tensorflow) (3.8.0)\n",
            "Requirement already satisfied: wrapt>=1.11.0 in /usr/local/lib/python3.8/site-packages (from tensorflow) (1.15.0)\n",
            "Requirement already satisfied: flatbuffers>=2.0 in /usr/local/lib/python3.8/site-packages (from tensorflow) (23.1.21)\n",
            "Requirement already satisfied: keras<2.11,>=2.10.0 in /usr/local/lib/python3.8/site-packages (from tensorflow) (2.10.0)\n",
            "Requirement already satisfied: opt-einsum>=2.3.2 in /usr/local/lib/python3.8/site-packages (from tensorflow) (3.3.0)\n",
            "Requirement already satisfied: setuptools in /usr/local/lib/python3.8/site-packages (from tensorflow) (65.5.1)\n",
            "Requirement already satisfied: google-pasta>=0.1.1 in /usr/local/lib/python3.8/site-packages (from tensorflow) (0.2.0)\n",
            "Requirement already satisfied: termcolor>=1.1.0 in /usr/local/lib/python3.8/site-packages (from tensorflow) (2.2.0)\n",
            "Requirement already satisfied: six>=1.12.0 in /usr/local/lib/python3.8/site-packages (from tensorflow) (1.16.0)\n",
            "Requirement already satisfied: tensorflow-io-gcs-filesystem>=0.23.1 in /usr/local/lib/python3.8/site-packages (from tensorflow) (0.31.0)\n",
            "Requirement already satisfied: tensorflow-estimator<2.11,>=2.10.0 in /usr/local/lib/python3.8/site-packages (from tensorflow) (2.10.0)\n",
            "Requirement already satisfied: tensorboard<2.11,>=2.10 in /usr/local/lib/python3.8/site-packages (from tensorflow) (2.10.1)\n",
            "Requirement already satisfied: Werkzeug>=2.0 in /usr/local/lib/python3.8/site-packages (from flask) (2.2.3)\n",
            "Requirement already satisfied: itsdangerous>=2.0 in /usr/local/lib/python3.8/site-packages (from flask) (2.1.2)\n",
            "Requirement already satisfied: cloudpickle~=2.2.1 in /usr/local/lib/python3.8/site-packages (from apache-beam[gcp]<3,>=2.40->tfx==1.11.0) (2.2.1)\n",
            "Requirement already satisfied: hdfs<3.0.0,>=2.1.0 in /usr/local/lib/python3.8/site-packages (from apache-beam[gcp]<3,>=2.40->tfx==1.11.0) (2.7.0)\n",
            "Requirement already satisfied: requests<3.0.0,>=2.24.0 in /usr/local/lib/python3.8/site-packages (from apache-beam[gcp]<3,>=2.40->tfx==1.11.0) (2.28.1)\n",
            "Requirement already satisfied: fasteners<1.0,>=0.3 in /usr/local/lib/python3.8/site-packages (from apache-beam[gcp]<3,>=2.40->tfx==1.11.0) (0.18)\n",
            "Requirement already satisfied: crcmod<2.0,>=1.7 in /usr/local/lib/python3.8/site-packages (from apache-beam[gcp]<3,>=2.40->tfx==1.11.0) (1.7)\n",
            "Requirement already satisfied: orjson<4.0 in /usr/local/lib/python3.8/site-packages (from apache-beam[gcp]<3,>=2.40->tfx==1.11.0) (3.8.6)\n",
            "Requirement already satisfied: proto-plus<2,>=1.7.1 in /usr/local/lib/python3.8/site-packages (from apache-beam[gcp]<3,>=2.40->tfx==1.11.0) (1.22.2)\n",
            "Requirement already satisfied: python-dateutil<3,>=2.8.0 in /usr/local/lib/python3.8/site-packages (from apache-beam[gcp]<3,>=2.40->tfx==1.11.0) (2.8.2)\n",
            "Requirement already satisfied: zstandard<1,>=0.18.0 in /usr/local/lib/python3.8/site-packages (from apache-beam[gcp]<3,>=2.40->tfx==1.11.0) (0.19.0)\n",
            "Requirement already satisfied: pymongo<4.0.0,>=3.8.0 in /usr/local/lib/python3.8/site-packages (from apache-beam[gcp]<3,>=2.40->tfx==1.11.0) (3.13.0)\n",
            "Requirement already satisfied: objsize<0.7.0,>=0.6.1 in /usr/local/lib/python3.8/site-packages (from apache-beam[gcp]<3,>=2.40->tfx==1.11.0) (0.6.1)\n",
            "Requirement already satisfied: dill<0.3.2,>=0.3.1.1 in /usr/local/lib/python3.8/site-packages (from apache-beam[gcp]<3,>=2.40->tfx==1.11.0) (0.3.1.1)\n",
            "Requirement already satisfied: regex>=2020.6.8 in /usr/local/lib/python3.8/site-packages (from apache-beam[gcp]<3,>=2.40->tfx==1.11.0) (2022.10.31)\n",
            "Requirement already satisfied: pytz>=2018.3 in /usr/local/lib/python3.8/site-packages (from apache-beam[gcp]<3,>=2.40->tfx==1.11.0) (2022.7.1)\n",
            "Requirement already satisfied: httplib2<0.21.0,>=0.8 in /usr/local/lib/python3.8/site-packages (from apache-beam[gcp]<3,>=2.40->tfx==1.11.0) (0.20.4)\n",
            "Requirement already satisfied: fastavro<2,>=0.23.6 in /usr/local/lib/python3.8/site-packages (from apache-beam[gcp]<3,>=2.40->tfx==1.11.0) (1.7.2)\n",
            "Requirement already satisfied: pydot<2,>=1.2.0 in /usr/local/lib/python3.8/site-packages (from apache-beam[gcp]<3,>=2.40->tfx==1.11.0) (1.4.2)\n",
            "Requirement already satisfied: cachetools<5,>=3.1.0 in /usr/local/lib/python3.8/site-packages (from apache-beam[gcp]<3,>=2.40->tfx==1.11.0) (4.2.4)\n",
            "Requirement already satisfied: google-auth-httplib2<0.2.0,>=0.1.0 in /usr/local/lib/python3.8/site-packages (from apache-beam[gcp]<3,>=2.40->tfx==1.11.0) (0.1.0)\n",
            "Requirement already satisfied: google-cloud-dlp<4,>=3.0.0 in /usr/local/lib/python3.8/site-packages (from apache-beam[gcp]<3,>=2.40->tfx==1.11.0) (3.9.2)\n",
            "Requirement already satisfied: google-cloud-pubsub<3,>=2.1.0 in /usr/local/lib/python3.8/site-packages (from apache-beam[gcp]<3,>=2.40->tfx==1.11.0) (2.13.11)\n",
            "Requirement already satisfied: google-auth<3,>=1.18.0 in /usr/local/lib/python3.8/site-packages (from apache-beam[gcp]<3,>=2.40->tfx==1.11.0) (1.35.0)\n",
            "Requirement already satisfied: google-cloud-bigtable<2,>=0.31.1 in /usr/local/lib/python3.8/site-packages (from apache-beam[gcp]<3,>=2.40->tfx==1.11.0) (1.7.3)\n",
            "Requirement already satisfied: google-cloud-datastore<2,>=1.8.0 in /usr/local/lib/python3.8/site-packages (from apache-beam[gcp]<3,>=2.40->tfx==1.11.0) (1.15.5)\n",
            "Requirement already satisfied: google-cloud-bigquery-storage<2.17,>=2.6.3 in /usr/local/lib/python3.8/site-packages (from apache-beam[gcp]<3,>=2.40->tfx==1.11.0) (2.16.2)\n",
            "Requirement already satisfied: google-cloud-vision<4,>=2 in /usr/local/lib/python3.8/site-packages (from apache-beam[gcp]<3,>=2.40->tfx==1.11.0) (3.1.4)\n",
            "Requirement already satisfied: google-cloud-language<2,>=1.3.0 in /usr/local/lib/python3.8/site-packages (from apache-beam[gcp]<3,>=2.40->tfx==1.11.0) (1.3.2)\n",
            "Requirement already satisfied: google-cloud-pubsublite<2,>=1.2.0 in /usr/local/lib/python3.8/site-packages (from apache-beam[gcp]<3,>=2.40->tfx==1.11.0) (1.6.0)\n",
            "Requirement already satisfied: google-cloud-core<3,>=0.28.1 in /usr/local/lib/python3.8/site-packages (from apache-beam[gcp]<3,>=2.40->tfx==1.11.0) (2.3.2)\n",
            "Requirement already satisfied: google-cloud-videointelligence<2,>=1.8.0 in /usr/local/lib/python3.8/site-packages (from apache-beam[gcp]<3,>=2.40->tfx==1.11.0) (1.16.3)\n",
            "Requirement already satisfied: google-cloud-recommendations-ai<0.8.0,>=0.1.0 in /usr/local/lib/python3.8/site-packages (from apache-beam[gcp]<3,>=2.40->tfx==1.11.0) (0.7.1)\n",
            "Requirement already satisfied: google-cloud-spanner<4,>=3.0.0 in /usr/local/lib/python3.8/site-packages (from apache-beam[gcp]<3,>=2.40->tfx==1.11.0) (3.26.0)\n",
            "Requirement already satisfied: wheel<1.0,>=0.23.0 in /usr/local/lib/python3.8/site-packages (from astunparse>=1.6.0->tensorflow) (0.38.4)\n",
            "Requirement already satisfied: websocket-client>=0.32.0 in /usr/local/lib/python3.8/site-packages (from docker<5,>=4.1->tfx==1.11.0) (1.5.1)\n",
            "Requirement already satisfied: googleapis-common-protos<2.0dev,>=1.6.0 in /usr/local/lib/python3.8/site-packages (from google-api-core<1.33->tfx==1.11.0) (1.58.0)\n",
            "Requirement already satisfied: uritemplate<4dev,>=3.0.0 in /usr/local/lib/python3.8/site-packages (from google-api-python-client<2,>=1.8->tfx==1.11.0) (3.0.1)\n",
            "Requirement already satisfied: oauth2client>=1.4.12 in /usr/local/lib/python3.8/site-packages (from google-apitools<1,>=0.5->tfx==1.11.0) (4.1.3)\n",
            "Requirement already satisfied: google-cloud-resource-manager<3.0.0dev,>=1.3.3 in /usr/local/lib/python3.8/site-packages (from google-cloud-aiplatform<1.18,>=1.6.2->tfx==1.11.0) (1.6.3)\n",
            "Requirement already satisfied: google-cloud-storage<3.0.0dev,>=1.32.0 in /usr/local/lib/python3.8/site-packages (from google-cloud-aiplatform<1.18,>=1.6.2->tfx==1.11.0) (2.7.0)\n",
            "Requirement already satisfied: google-resumable-media<3.0dev,>=0.6.0 in /usr/local/lib/python3.8/site-packages (from google-cloud-bigquery<3,>=2.26.0->tfx==1.11.0) (2.4.1)\n",
            "Requirement already satisfied: MarkupSafe>=2.0 in /usr/local/lib/python3.8/site-packages (from jinja2<4,>=2.7.3->tfx==1.11.0) (2.1.2)\n",
            "Requirement already satisfied: kt-legacy in /usr/local/lib/python3.8/site-packages (from keras-tuner<2,>=1.0.4->tfx==1.11.0) (1.0.4)\n",
            "Requirement already satisfied: ipython in /usr/local/lib/python3.8/site-packages (from keras-tuner<2,>=1.0.4->tfx==1.11.0) (7.34.0)\n",
            "Requirement already satisfied: requests-oauthlib in /usr/local/lib/python3.8/site-packages (from kubernetes<13,>=10.0.1->tfx==1.11.0) (1.3.1)\n",
            "Requirement already satisfied: certifi>=14.05.14 in /usr/local/lib/python3.8/site-packages (from kubernetes<13,>=10.0.1->tfx==1.11.0) (2022.9.24)\n",
            "Requirement already satisfied: urllib3>=1.24.2 in /usr/local/lib/python3.8/site-packages (from kubernetes<13,>=10.0.1->tfx==1.11.0) (1.26.13)\n",
            "Requirement already satisfied: pyparsing>=2.0.2 in /usr/local/lib/python3.8/site-packages (from packaging<21,>=20->tfx==1.11.0) (3.0.9)\n",
            "Requirement already satisfied: psutil in /usr/local/lib/python3.8/site-packages (from portpicker<2,>=1.3.1->tfx==1.11.0) (5.9.4)\n",
            "Requirement already satisfied: google-auth-oauthlib<0.5,>=0.4.1 in /usr/local/lib/python3.8/site-packages (from tensorboard<2.11,>=2.10->tensorflow) (0.4.6)\n",
            "Requirement already satisfied: tensorboard-plugin-wit>=1.6.0 in /usr/local/lib/python3.8/site-packages (from tensorboard<2.11,>=2.10->tensorflow) (1.8.1)\n",
            "Requirement already satisfied: markdown>=2.6.8 in /usr/local/lib/python3.8/site-packages (from tensorboard<2.11,>=2.10->tensorflow) (3.4.1)\n",
            "Requirement already satisfied: tensorboard-data-server<0.7.0,>=0.6.0 in /usr/local/lib/python3.8/site-packages (from tensorboard<2.11,>=2.10->tensorflow) (0.6.1)\n",
            "Requirement already satisfied: tensorflow-metadata<1.12,>=1.11.0 in /usr/local/lib/python3.8/site-packages (from tensorflow-data-validation<1.12.0,>=1.11.0->tfx==1.11.0) (1.11.0)\n",
            "Requirement already satisfied: pyfarmhash<0.4,>=0.2 in /usr/local/lib/python3.8/site-packages (from tensorflow-data-validation<1.12.0,>=1.11.0->tfx==1.11.0) (0.3.2)\n",
            "Requirement already satisfied: pandas<2,>=1.0 in /usr/local/lib/python3.8/site-packages (from tensorflow-data-validation<1.12.0,>=1.11.0->tfx==1.11.0) (1.5.3)\n",
            "Requirement already satisfied: widgetsnbextension~=3.6.0 in /usr/local/lib/python3.8/site-packages (from ipywidgets->jupyter) (3.6.2)\n",
            "Requirement already satisfied: traitlets>=4.3.1 in /usr/local/lib/python3.8/site-packages (from ipywidgets->jupyter) (5.9.0)\n",
            "Requirement already satisfied: jupyterlab-widgets<3,>=1.0.0 in /usr/local/lib/python3.8/site-packages (from ipywidgets->jupyter) (1.1.2)\n",
            "Requirement already satisfied: ipython-genutils~=0.2.0 in /usr/local/lib/python3.8/site-packages (from ipywidgets->jupyter) (0.2.0)\n",
            "Requirement already satisfied: comm>=0.1.1 in /usr/local/lib/python3.8/site-packages (from ipykernel->jupyter) (0.1.2)\n",
            "Requirement already satisfied: nest-asyncio in /usr/local/lib/python3.8/site-packages (from ipykernel->jupyter) (1.5.6)\n",
            "Requirement already satisfied: jupyter-client>=6.1.12 in /usr/local/lib/python3.8/site-packages (from ipykernel->jupyter) (8.0.3)\n",
            "Requirement already satisfied: jupyter-core!=5.0.*,>=4.12 in /usr/local/lib/python3.8/site-packages (from ipykernel->jupyter) (5.2.0)\n",
            "Requirement already satisfied: tornado>=6.1 in /usr/local/lib/python3.8/site-packages (from ipykernel->jupyter) (6.2)\n",
            "Requirement already satisfied: matplotlib-inline>=0.1 in /usr/local/lib/python3.8/site-packages (from ipykernel->jupyter) (0.1.6)\n",
            "Requirement already satisfied: pyzmq>=20 in /usr/local/lib/python3.8/site-packages (from ipykernel->jupyter) (25.0.0)\n",
            "Requirement already satisfied: debugpy>=1.6.5 in /usr/local/lib/python3.8/site-packages (from ipykernel->jupyter) (1.6.6)\n",
            "Requirement already satisfied: pygments in /usr/local/lib/python3.8/site-packages (from jupyter-console->jupyter) (2.14.0)\n",
            "Requirement already satisfied: prompt-toolkit>=3.0.30 in /usr/local/lib/python3.8/site-packages (from jupyter-console->jupyter) (3.0.37)\n",
            "Requirement already satisfied: defusedxml in /usr/local/lib/python3.8/site-packages (from nbconvert->jupyter) (0.7.1)\n",
            "Requirement already satisfied: beautifulsoup4 in /usr/local/lib/python3.8/site-packages (from nbconvert->jupyter) (4.11.2)\n",
            "Requirement already satisfied: mistune<3,>=2.0.3 in /usr/local/lib/python3.8/site-packages (from nbconvert->jupyter) (2.0.5)\n",
            "Requirement already satisfied: nbclient>=0.5.0 in /usr/local/lib/python3.8/site-packages (from nbconvert->jupyter) (0.7.2)\n",
            "Requirement already satisfied: tinycss2 in /usr/local/lib/python3.8/site-packages (from nbconvert->jupyter) (1.2.1)\n",
            "Requirement already satisfied: bleach in /usr/local/lib/python3.8/site-packages (from nbconvert->jupyter) (6.0.0)\n",
            "Requirement already satisfied: importlib-metadata>=3.6 in /usr/local/lib/python3.8/site-packages (from nbconvert->jupyter) (6.0.0)\n",
            "Requirement already satisfied: nbformat>=5.1 in /usr/local/lib/python3.8/site-packages (from nbconvert->jupyter) (5.7.3)\n",
            "Requirement already satisfied: jupyterlab-pygments in /usr/local/lib/python3.8/site-packages (from nbconvert->jupyter) (0.2.2)\n",
            "Requirement already satisfied: pandocfilters>=1.4.1 in /usr/local/lib/python3.8/site-packages (from nbconvert->jupyter) (1.5.0)\n",
            "Requirement already satisfied: argon2-cffi in /usr/local/lib/python3.8/site-packages (from notebook->jupyter) (21.3.0)\n",
            "Requirement already satisfied: Send2Trash>=1.8.0 in /usr/local/lib/python3.8/site-packages (from notebook->jupyter) (1.8.0)\n",
            "Requirement already satisfied: terminado>=0.8.3 in /usr/local/lib/python3.8/site-packages (from notebook->jupyter) (0.17.1)\n",
            "Requirement already satisfied: nbclassic>=0.4.7 in /usr/local/lib/python3.8/site-packages (from notebook->jupyter) (0.5.2)\n",
            "Requirement already satisfied: prometheus-client in /usr/local/lib/python3.8/site-packages (from notebook->jupyter) (0.16.0)\n",
            "Requirement already satisfied: qtpy>=2.0.1 in /usr/local/lib/python3.8/site-packages (from qtconsole->jupyter) (2.3.0)\n",
            "Requirement already satisfied: rsa<5,>=3.1.4 in /usr/local/lib/python3.8/site-packages (from google-auth<3,>=1.18.0->apache-beam[gcp]<3,>=2.40->tfx==1.11.0) (4.9)\n",
            "Requirement already satisfied: pyasn1-modules>=0.2.1 in /usr/local/lib/python3.8/site-packages (from google-auth<3,>=1.18.0->apache-beam[gcp]<3,>=2.40->tfx==1.11.0) (0.2.8)\n",
            "Requirement already satisfied: grpc-google-iam-v1<0.13dev,>=0.12.3 in /usr/local/lib/python3.8/site-packages (from google-cloud-bigtable<2,>=0.31.1->apache-beam[gcp]<3,>=2.40->tfx==1.11.0) (0.12.6)\n",
            "Requirement already satisfied: grpcio-status>=1.16.0 in /usr/local/lib/python3.8/site-packages (from google-cloud-pubsub<3,>=2.1.0->apache-beam[gcp]<3,>=2.40->tfx==1.11.0) (1.48.2)\n",
            "Requirement already satisfied: overrides<7.0.0,>=6.0.1 in /usr/local/lib/python3.8/site-packages (from google-cloud-pubsublite<2,>=1.2.0->apache-beam[gcp]<3,>=2.40->tfx==1.11.0) (6.5.0)\n",
            "Requirement already satisfied: sqlparse>=0.3.0 in /usr/local/lib/python3.8/site-packages (from google-cloud-spanner<4,>=3.0.0->apache-beam[gcp]<3,>=2.40->tfx==1.11.0) (0.4.3)\n",
            "Requirement already satisfied: google-crc32c<2.0dev,>=1.0 in /usr/local/lib/python3.8/site-packages (from google-resumable-media<3.0dev,>=0.6.0->google-cloud-bigquery<3,>=2.26.0->tfx==1.11.0) (1.5.0)\n",
            "Requirement already satisfied: docopt in /usr/local/lib/python3.8/site-packages (from hdfs<3.0.0,>=2.1.0->apache-beam[gcp]<3,>=2.40->tfx==1.11.0) (0.6.2)\n",
            "Requirement already satisfied: zipp>=0.5 in /usr/local/lib/python3.8/site-packages (from importlib-metadata>=3.6->nbconvert->jupyter) (3.15.0)\n",
            "Requirement already satisfied: pickleshare in /usr/local/lib/python3.8/site-packages (from ipython->keras-tuner<2,>=1.0.4->tfx==1.11.0) (0.7.5)\n",
            "Requirement already satisfied: decorator in /usr/local/lib/python3.8/site-packages (from ipython->keras-tuner<2,>=1.0.4->tfx==1.11.0) (5.1.1)\n",
            "Requirement already satisfied: pexpect>4.3 in /usr/local/lib/python3.8/site-packages (from ipython->keras-tuner<2,>=1.0.4->tfx==1.11.0) (4.8.0)\n",
            "Requirement already satisfied: backcall in /usr/local/lib/python3.8/site-packages (from ipython->keras-tuner<2,>=1.0.4->tfx==1.11.0) (0.2.0)\n",
            "Requirement already satisfied: jedi>=0.16 in /usr/local/lib/python3.8/site-packages (from ipython->keras-tuner<2,>=1.0.4->tfx==1.11.0) (0.18.2)\n",
            "Requirement already satisfied: platformdirs>=2.5 in /usr/local/lib/python3.8/site-packages (from jupyter-core!=5.0.*,>=4.12->ipykernel->jupyter) (3.0.0)\n",
            "Requirement already satisfied: notebook-shim>=0.1.0 in /usr/local/lib/python3.8/site-packages (from nbclassic>=0.4.7->notebook->jupyter) (0.2.2)\n",
            "Requirement already satisfied: jupyter-server>=1.8 in /usr/local/lib/python3.8/site-packages (from nbclassic>=0.4.7->notebook->jupyter) (2.3.0)\n",
            "Requirement already satisfied: fastjsonschema in /usr/local/lib/python3.8/site-packages (from nbformat>=5.1->nbconvert->jupyter) (2.16.3)\n",
            "Requirement already satisfied: jsonschema>=2.6 in /usr/local/lib/python3.8/site-packages (from nbformat>=5.1->nbconvert->jupyter) (4.17.3)\n",
            "Requirement already satisfied: pyasn1>=0.1.7 in /usr/local/lib/python3.8/site-packages (from oauth2client>=1.4.12->google-apitools<1,>=0.5->tfx==1.11.0) (0.4.8)\n",
            "Requirement already satisfied: wcwidth in /usr/local/lib/python3.8/site-packages (from prompt-toolkit>=3.0.30->jupyter-console->jupyter) (0.2.6)\n",
            "Requirement already satisfied: idna<4,>=2.5 in /usr/local/lib/python3.8/site-packages (from requests<3.0.0,>=2.24.0->apache-beam[gcp]<3,>=2.40->tfx==1.11.0) (3.4)\n",
            "Requirement already satisfied: charset-normalizer<3,>=2 in /usr/local/lib/python3.8/site-packages (from requests<3.0.0,>=2.24.0->apache-beam[gcp]<3,>=2.40->tfx==1.11.0) (2.1.1)\n",
            "Requirement already satisfied: oauthlib>=3.0.0 in /usr/local/lib/python3.8/site-packages (from requests-oauthlib->kubernetes<13,>=10.0.1->tfx==1.11.0) (3.2.2)\n",
            "Requirement already satisfied: ptyprocess in /usr/local/lib/python3.8/site-packages (from terminado>=0.8.3->notebook->jupyter) (0.7.0)\n",
            "Requirement already satisfied: argon2-cffi-bindings in /usr/local/lib/python3.8/site-packages (from argon2-cffi->notebook->jupyter) (21.2.0)\n",
            "Requirement already satisfied: soupsieve>1.2 in /usr/local/lib/python3.8/site-packages (from beautifulsoup4->nbconvert->jupyter) (2.4)\n",
            "Requirement already satisfied: webencodings in /usr/local/lib/python3.8/site-packages (from bleach->nbconvert->jupyter) (0.5.1)\n",
            "Requirement already satisfied: parso<0.9.0,>=0.8.0 in /usr/local/lib/python3.8/site-packages (from jedi>=0.16->ipython->keras-tuner<2,>=1.0.4->tfx==1.11.0) (0.8.3)\n",
            "Requirement already satisfied: pyrsistent!=0.17.0,!=0.17.1,!=0.17.2,>=0.14.0 in /usr/local/lib/python3.8/site-packages (from jsonschema>=2.6->nbformat>=5.1->nbconvert->jupyter) (0.19.3)\n",
            "Requirement already satisfied: pkgutil-resolve-name>=1.3.10 in /usr/local/lib/python3.8/site-packages (from jsonschema>=2.6->nbformat>=5.1->nbconvert->jupyter) (1.3.10)\n",
            "Requirement already satisfied: importlib-resources>=1.4.0 in /usr/local/lib/python3.8/site-packages (from jsonschema>=2.6->nbformat>=5.1->nbconvert->jupyter) (5.12.0)\n",
            "Requirement already satisfied: jupyter-events>=0.4.0 in /usr/local/lib/python3.8/site-packages (from jupyter-server>=1.8->nbclassic>=0.4.7->notebook->jupyter) (0.6.3)\n",
            "Requirement already satisfied: jupyter-server-terminals in /usr/local/lib/python3.8/site-packages (from jupyter-server>=1.8->nbclassic>=0.4.7->notebook->jupyter) (0.4.4)\n",
            "Requirement already satisfied: anyio>=3.1.0 in /usr/local/lib/python3.8/site-packages (from jupyter-server>=1.8->nbclassic>=0.4.7->notebook->jupyter) (3.6.2)\n",
            "Requirement already satisfied: cffi>=1.0.1 in /usr/local/lib/python3.8/site-packages (from argon2-cffi-bindings->argon2-cffi->notebook->jupyter) (1.15.1)\n",
            "Requirement already satisfied: sniffio>=1.1 in /usr/local/lib/python3.8/site-packages (from anyio>=3.1.0->jupyter-server>=1.8->nbclassic>=0.4.7->notebook->jupyter) (1.3.0)\n",
            "Requirement already satisfied: pycparser in /usr/local/lib/python3.8/site-packages (from cffi>=1.0.1->argon2-cffi-bindings->argon2-cffi->notebook->jupyter) (2.21)\n",
            "Requirement already satisfied: rfc3986-validator>=0.1.1 in /usr/local/lib/python3.8/site-packages (from jupyter-events>=0.4.0->jupyter-server>=1.8->nbclassic>=0.4.7->notebook->jupyter) (0.1.1)\n",
            "Requirement already satisfied: python-json-logger>=2.0.4 in /usr/local/lib/python3.8/site-packages (from jupyter-events>=0.4.0->jupyter-server>=1.8->nbclassic>=0.4.7->notebook->jupyter) (2.0.7)\n",
            "Requirement already satisfied: rfc3339-validator in /usr/local/lib/python3.8/site-packages (from jupyter-events>=0.4.0->jupyter-server>=1.8->nbclassic>=0.4.7->notebook->jupyter) (0.1.4)\n",
            "Requirement already satisfied: fqdn in /usr/local/lib/python3.8/site-packages (from jsonschema>=2.6->nbformat>=5.1->nbconvert->jupyter) (1.5.1)\n",
            "Requirement already satisfied: isoduration in /usr/local/lib/python3.8/site-packages (from jsonschema>=2.6->nbformat>=5.1->nbconvert->jupyter) (20.11.0)\n",
            "Requirement already satisfied: webcolors>=1.11 in /usr/local/lib/python3.8/site-packages (from jsonschema>=2.6->nbformat>=5.1->nbconvert->jupyter) (1.12)\n",
            "Requirement already satisfied: uri-template in /usr/local/lib/python3.8/site-packages (from jsonschema>=2.6->nbformat>=5.1->nbconvert->jupyter) (1.2.0)\n",
            "Requirement already satisfied: jsonpointer>1.13 in /usr/local/lib/python3.8/site-packages (from jsonschema>=2.6->nbformat>=5.1->nbconvert->jupyter) (2.3)\n",
            "Requirement already satisfied: arrow>=0.15.0 in /usr/local/lib/python3.8/site-packages (from isoduration->jsonschema>=2.6->nbformat>=5.1->nbconvert->jupyter) (1.2.3)\n",
            "\u001b[33mWARNING: Running pip as the 'root' user can result in broken permissions and conflicting behaviour with the system package manager. It is recommended to use a virtual environment instead: https://pip.pypa.io/warnings/venv\u001b[0m\u001b[33m\n",
            "\u001b[0m"
          ]
        }
      ],
      "source": [
        "!pip install jupyter scikit-learn tensorflow tfx==1.11.0 flask joblib"
      ]
    },
    {
      "cell_type": "code",
      "execution_count": null,
      "metadata": {
        "colab": {
          "background_save": true
        },
        "id": "2uGHUc6kiWCT",
        "outputId": "6081b984-00be-4872-e99b-deaba1d9cca0"
      },
      "outputs": [
        {
          "name": "stdout",
          "output_type": "stream",
          "text": [
            "Looking in indexes: https://pypi.org/simple, https://us-python.pkg.dev/colab-wheels/public/simple/\n",
            "Collecting absl-py==1.1.0\n",
            "  Using cached absl_py-1.1.0-py3-none-any.whl (123 kB)\n",
            "Collecting apache-beam==2.39.0\n",
            "  Using cached apache_beam-2.39.0-cp38-cp38-manylinux2010_x86_64.whl (12.3 MB)\n",
            "Requirement already satisfied: argon2-cffi==21.3.0 in /usr/local/lib/python3.8/site-packages (from -r /content/ML_MLO-Submission_1/requirements.txt (line 3)) (21.3.0)\n",
            "Requirement already satisfied: argon2-cffi-bindings==21.2.0 in /usr/local/lib/python3.8/site-packages (from -r /content/ML_MLO-Submission_1/requirements.txt (line 4)) (21.2.0)\n",
            "Requirement already satisfied: astunparse==1.6.3 in /usr/local/lib/python3.8/site-packages (from -r /content/ML_MLO-Submission_1/requirements.txt (line 5)) (1.6.3)\n",
            "Collecting attrs==20.3.0\n",
            "  Using cached attrs-20.3.0-py2.py3-none-any.whl (49 kB)\n",
            "Requirement already satisfied: backcall==0.2.0 in /usr/local/lib/python3.8/site-packages (from -r /content/ML_MLO-Submission_1/requirements.txt (line 7)) (0.2.0)\n",
            "Collecting beautifulsoup4==4.11.1\n",
            "  Using cached beautifulsoup4-4.11.1-py3-none-any.whl (128 kB)\n",
            "Collecting bleach==5.0.1\n",
            "  Using cached bleach-5.0.1-py3-none-any.whl (160 kB)\n",
            "Requirement already satisfied: cachetools==4.2.4 in /usr/local/lib/python3.8/site-packages (from -r /content/ML_MLO-Submission_1/requirements.txt (line 10)) (4.2.4)\n",
            "Requirement already satisfied: cffi==1.15.1 in /usr/local/lib/python3.8/site-packages (from -r /content/ML_MLO-Submission_1/requirements.txt (line 11)) (1.15.1)\n",
            "Collecting charset-normalizer==2.1.0\n",
            "  Using cached charset_normalizer-2.1.0-py3-none-any.whl (39 kB)\n",
            "Requirement already satisfied: click==7.1.2 in /usr/local/lib/python3.8/site-packages (from -r /content/ML_MLO-Submission_1/requirements.txt (line 13)) (7.1.2)\n",
            "Collecting cloudpickle==2.1.0\n",
            "  Using cached cloudpickle-2.1.0-py3-none-any.whl (25 kB)\n",
            "Collecting colorama==0.4.5\n",
            "  Using cached colorama-0.4.5-py2.py3-none-any.whl (16 kB)\n",
            "Requirement already satisfied: crcmod==1.7 in /usr/local/lib/python3.8/site-packages (from -r /content/ML_MLO-Submission_1/requirements.txt (line 16)) (1.7)\n",
            "Collecting cycler==0.11.0\n",
            "  Using cached cycler-0.11.0-py3-none-any.whl (6.4 kB)\n",
            "Collecting debugpy==1.6.2\n",
            "  Using cached debugpy-1.6.2-cp38-cp38-manylinux_2_5_x86_64.manylinux1_x86_64.manylinux_2_12_x86_64.manylinux2010_x86_64.whl (1.8 MB)\n",
            "Requirement already satisfied: decorator==5.1.1 in /usr/local/lib/python3.8/site-packages (from -r /content/ML_MLO-Submission_1/requirements.txt (line 19)) (5.1.1)\n",
            "Requirement already satisfied: defusedxml==0.7.1 in /usr/local/lib/python3.8/site-packages (from -r /content/ML_MLO-Submission_1/requirements.txt (line 20)) (0.7.1)\n",
            "Requirement already satisfied: dill==0.3.1.1 in /usr/local/lib/python3.8/site-packages (from -r /content/ML_MLO-Submission_1/requirements.txt (line 21)) (0.3.1.1)\n",
            "Requirement already satisfied: docker==4.4.4 in /usr/local/lib/python3.8/site-packages (from -r /content/ML_MLO-Submission_1/requirements.txt (line 22)) (4.4.4)\n",
            "Requirement already satisfied: docopt==0.6.2 in /usr/local/lib/python3.8/site-packages (from -r /content/ML_MLO-Submission_1/requirements.txt (line 23)) (0.6.2)\n",
            "Collecting entrypoints==0.4\n",
            "  Using cached entrypoints-0.4-py3-none-any.whl (5.3 kB)\n",
            "Collecting fastavro==1.5.2\n",
            "  Using cached fastavro-1.5.2-cp38-cp38-manylinux_2_17_x86_64.manylinux2014_x86_64.whl (2.6 MB)\n",
            "Collecting fasteners==0.17.3\n",
            "  Using cached fasteners-0.17.3-py3-none-any.whl (18 kB)\n",
            "Collecting fastjsonschema==2.16.1\n",
            "  Using cached fastjsonschema-2.16.1-py3-none-any.whl (22 kB)\n",
            "Collecting flatbuffers==1.12\n",
            "  Using cached flatbuffers-1.12-py2.py3-none-any.whl (15 kB)\n",
            "Collecting fonttools==4.34.4\n",
            "  Using cached fonttools-4.34.4-py3-none-any.whl (944 kB)\n",
            "Requirement already satisfied: gast==0.4.0 in /usr/local/lib/python3.8/site-packages (from -r /content/ML_MLO-Submission_1/requirements.txt (line 30)) (0.4.0)\n",
            "Requirement already satisfied: google-api-core==1.32.0 in /usr/local/lib/python3.8/site-packages (from -r /content/ML_MLO-Submission_1/requirements.txt (line 31)) (1.32.0)\n",
            "Requirement already satisfied: google-api-python-client==1.12.11 in /usr/local/lib/python3.8/site-packages (from -r /content/ML_MLO-Submission_1/requirements.txt (line 32)) (1.12.11)\n",
            "Requirement already satisfied: google-apitools==0.5.31 in /usr/local/lib/python3.8/site-packages (from -r /content/ML_MLO-Submission_1/requirements.txt (line 33)) (0.5.31)\n",
            "Requirement already satisfied: google-auth==1.35.0 in /usr/local/lib/python3.8/site-packages (from -r /content/ML_MLO-Submission_1/requirements.txt (line 34)) (1.35.0)\n",
            "Requirement already satisfied: google-auth-httplib2==0.1.0 in /usr/local/lib/python3.8/site-packages (from -r /content/ML_MLO-Submission_1/requirements.txt (line 35)) (0.1.0)\n",
            "Requirement already satisfied: google-auth-oauthlib==0.4.6 in /usr/local/lib/python3.8/site-packages (from -r /content/ML_MLO-Submission_1/requirements.txt (line 36)) (0.4.6)\n",
            "Collecting google-cloud-aiplatform==1.15.0\n",
            "  Using cached google_cloud_aiplatform-1.15.0-py2.py3-none-any.whl (2.1 MB)\n",
            "Requirement already satisfied: google-cloud-bigquery==2.34.4 in /usr/local/lib/python3.8/site-packages (from -r /content/ML_MLO-Submission_1/requirements.txt (line 38)) (2.34.4)\n",
            "Collecting google-cloud-bigquery-storage==2.14.1\n",
            "  Using cached google_cloud_bigquery_storage-2.14.1-py2.py3-none-any.whl (181 kB)\n",
            "Collecting google-cloud-bigtable==1.7.2\n",
            "  Using cached google_cloud_bigtable-1.7.2-py2.py3-none-any.whl (267 kB)\n",
            "Collecting google-cloud-core==1.7.3\n",
            "  Using cached google_cloud_core-1.7.3-py2.py3-none-any.whl (28 kB)\n",
            "Requirement already satisfied: google-cloud-datastore==1.15.5 in /usr/local/lib/python3.8/site-packages (from -r /content/ML_MLO-Submission_1/requirements.txt (line 42)) (1.15.5)\n",
            "Collecting google-cloud-dlp==3.7.1\n",
            "  Using cached google_cloud_dlp-3.7.1-py2.py3-none-any.whl (118 kB)\n",
            "Requirement already satisfied: google-cloud-language==1.3.2 in /usr/local/lib/python3.8/site-packages (from -r /content/ML_MLO-Submission_1/requirements.txt (line 44)) (1.3.2)\n",
            "Collecting google-cloud-pubsub==2.13.4\n",
            "  Using cached google_cloud_pubsub-2.13.4-py2.py3-none-any.whl (234 kB)\n",
            "Collecting google-cloud-pubsublite==1.4.2\n",
            "  Using cached google_cloud_pubsublite-1.4.2-py2.py3-none-any.whl (265 kB)\n",
            "Collecting google-cloud-recommendations-ai==0.2.0\n",
            "  Using cached google_cloud_recommendations_ai-0.2.0-py2.py3-none-any.whl (180 kB)\n",
            "Collecting google-cloud-resource-manager==1.6.0\n",
            "  Using cached google_cloud_resource_manager-1.6.0-py2.py3-none-any.whl (231 kB)\n",
            "Collecting google-cloud-spanner==1.19.3\n",
            "  Using cached google_cloud_spanner-1.19.3-py2.py3-none-any.whl (255 kB)\n",
            "Collecting google-cloud-storage==2.2.1\n",
            "  Using cached google_cloud_storage-2.2.1-py2.py3-none-any.whl (107 kB)\n",
            "Requirement already satisfied: google-cloud-videointelligence==1.16.3 in /usr/local/lib/python3.8/site-packages (from -r /content/ML_MLO-Submission_1/requirements.txt (line 51)) (1.16.3)\n",
            "Collecting google-cloud-vision==1.0.2\n",
            "  Using cached google_cloud_vision-1.0.2-py2.py3-none-any.whl (435 kB)\n",
            "Collecting google-crc32c==1.3.0\n",
            "  Using cached google_crc32c-1.3.0-cp38-cp38-manylinux_2_12_x86_64.manylinux2010_x86_64.whl (37 kB)\n",
            "Requirement already satisfied: google-pasta==0.2.0 in /usr/local/lib/python3.8/site-packages (from -r /content/ML_MLO-Submission_1/requirements.txt (line 54)) (0.2.0)\n",
            "Collecting google-resumable-media==2.3.3\n",
            "  Using cached google_resumable_media-2.3.3-py2.py3-none-any.whl (76 kB)\n",
            "Collecting googleapis-common-protos==1.56.4\n",
            "  Using cached googleapis_common_protos-1.56.4-py2.py3-none-any.whl (211 kB)\n",
            "Collecting grpc-google-iam-v1==0.12.4\n",
            "  Using cached grpc_google_iam_v1-0.12.4-py2.py3-none-any.whl (26 kB)\n",
            "Collecting grpcio==1.47.0\n",
            "  Using cached grpcio-1.47.0-cp38-cp38-manylinux_2_17_x86_64.manylinux2014_x86_64.whl (4.5 MB)\n",
            "Collecting grpcio-gcp==0.2.2\n",
            "  Using cached grpcio_gcp-0.2.2-py2.py3-none-any.whl (9.4 kB)\n",
            "Collecting grpcio-status==1.47.0\n",
            "  Using cached grpcio_status-1.47.0-py3-none-any.whl (10.0 kB)\n",
            "Collecting h5py==3.7.0\n",
            "  Using cached h5py-3.7.0-cp38-cp38-manylinux_2_12_x86_64.manylinux2010_x86_64.whl (4.5 MB)\n",
            "Requirement already satisfied: hdfs==2.7.0 in /usr/local/lib/python3.8/site-packages (from -r /content/ML_MLO-Submission_1/requirements.txt (line 62)) (2.7.0)\n",
            "Collecting httplib2==0.19.1\n",
            "  Using cached httplib2-0.19.1-py3-none-any.whl (95 kB)\n",
            "Collecting idna==3.3\n",
            "  Using cached idna-3.3-py3-none-any.whl (61 kB)\n",
            "Collecting importlib-metadata==4.12.0\n",
            "  Using cached importlib_metadata-4.12.0-py3-none-any.whl (21 kB)\n",
            "Collecting importlib-resources==5.8.0\n",
            "  Using cached importlib_resources-5.8.0-py3-none-any.whl (28 kB)\n",
            "Collecting ipykernel==6.15.1\n",
            "  Using cached ipykernel-6.15.1-py3-none-any.whl (132 kB)\n",
            "Requirement already satisfied: ipython==7.34.0 in /usr/local/lib/python3.8/site-packages (from -r /content/ML_MLO-Submission_1/requirements.txt (line 68)) (7.34.0)\n",
            "Requirement already satisfied: ipython-genutils==0.2.0 in /usr/local/lib/python3.8/site-packages (from -r /content/ML_MLO-Submission_1/requirements.txt (line 69)) (0.2.0)\n",
            "Collecting ipywidgets==7.7.1\n",
            "  Using cached ipywidgets-7.7.1-py2.py3-none-any.whl (123 kB)\n",
            "Collecting jedi==0.18.1\n",
            "  Using cached jedi-0.18.1-py2.py3-none-any.whl (1.6 MB)\n",
            "Requirement already satisfied: Jinja2==3.1.2 in /usr/local/lib/python3.8/site-packages (from -r /content/ML_MLO-Submission_1/requirements.txt (line 72)) (3.1.2)\n",
            "Collecting joblib==0.14.1\n",
            "  Using cached joblib-0.14.1-py2.py3-none-any.whl (294 kB)\n",
            "Collecting jsonschema==4.7.2\n",
            "  Using cached jsonschema-4.7.2-py3-none-any.whl (81 kB)\n",
            "Requirement already satisfied: jupyter==1.0.0 in /usr/local/lib/python3.8/site-packages (from -r /content/ML_MLO-Submission_1/requirements.txt (line 75)) (1.0.0)\n",
            "Collecting jupyter-client==7.3.4\n",
            "  Using cached jupyter_client-7.3.4-py3-none-any.whl (132 kB)\n",
            "Collecting jupyter-console==6.4.4\n",
            "  Using cached jupyter_console-6.4.4-py3-none-any.whl (22 kB)\n",
            "Collecting jupyter-contrib-core==0.4.0\n",
            "  Using cached jupyter_contrib_core-0.4.0-py2.py3-none-any.whl (17 kB)\n",
            "Collecting jupyter-contrib-nbextensions==0.5.1\n",
            "  Using cached jupyter_contrib_nbextensions-0.5.1-py2.py3-none-any.whl (20.9 MB)\n",
            "Collecting jupyter-core==4.11.1\n",
            "  Using cached jupyter_core-4.11.1-py3-none-any.whl (88 kB)\n",
            "Collecting jupyter-highlight-selected-word==0.2.0\n",
            "  Using cached jupyter_highlight_selected_word-0.2.0-py2.py3-none-any.whl (11 kB)\n",
            "Collecting jupyter-latex-envs==1.4.6\n",
            "  Using cached jupyter_latex_envs-1.4.6.tar.gz (861 kB)\n",
            "  Preparing metadata (setup.py) ... \u001b[?25l\u001b[?25hdone\n",
            "Collecting jupyter-nbextensions-configurator==0.5.0\n",
            "  Using cached jupyter_nbextensions_configurator-0.5.0-py2.py3-none-any.whl (467 kB)\n",
            "Requirement already satisfied: jupyterlab-pygments==0.2.2 in /usr/local/lib/python3.8/site-packages (from -r /content/ML_MLO-Submission_1/requirements.txt (line 84)) (0.2.2)\n",
            "Collecting jupyterlab-widgets==1.1.1\n",
            "  Using cached jupyterlab_widgets-1.1.1-py3-none-any.whl (245 kB)\n",
            "Collecting keras==2.8.0\n",
            "  Using cached keras-2.8.0-py2.py3-none-any.whl (1.4 MB)\n",
            "Requirement already satisfied: Keras-Preprocessing==1.1.2 in /usr/local/lib/python3.8/site-packages (from -r /content/ML_MLO-Submission_1/requirements.txt (line 87)) (1.1.2)\n",
            "Collecting keras-tuner==1.1.3\n",
            "  Using cached keras_tuner-1.1.3-py3-none-any.whl (135 kB)\n",
            "Collecting kiwisolver==1.4.4\n",
            "  Using cached kiwisolver-1.4.4-cp38-cp38-manylinux_2_5_x86_64.manylinux1_x86_64.whl (1.2 MB)\n",
            "Requirement already satisfied: kt-legacy==1.0.4 in /usr/local/lib/python3.8/site-packages (from -r /content/ML_MLO-Submission_1/requirements.txt (line 90)) (1.0.4)\n",
            "Requirement already satisfied: kubernetes==12.0.1 in /usr/local/lib/python3.8/site-packages (from -r /content/ML_MLO-Submission_1/requirements.txt (line 91)) (12.0.1)\n",
            "Collecting libclang==14.0.1\n",
            "  Using cached libclang-14.0.1-py2.py3-none-manylinux1_x86_64.whl (14.5 MB)\n",
            "Collecting lxml==4.9.1\n",
            "  Using cached lxml-4.9.1-cp38-cp38-manylinux_2_17_x86_64.manylinux2014_x86_64.manylinux_2_24_x86_64.whl (6.9 MB)\n",
            "Requirement already satisfied: Markdown==3.4.1 in /usr/local/lib/python3.8/site-packages (from -r /content/ML_MLO-Submission_1/requirements.txt (line 94)) (3.4.1)\n",
            "Collecting MarkupSafe==2.1.1\n",
            "  Using cached MarkupSafe-2.1.1-cp38-cp38-manylinux_2_17_x86_64.manylinux2014_x86_64.whl (25 kB)\n",
            "Collecting matplotlib==3.5.2\n",
            "  Using cached matplotlib-3.5.2-cp38-cp38-manylinux_2_5_x86_64.manylinux1_x86_64.whl (11.3 MB)\n",
            "Collecting matplotlib-inline==0.1.3\n",
            "  Using cached matplotlib_inline-0.1.3-py3-none-any.whl (8.2 kB)\n",
            "Collecting mistune==0.8.4\n",
            "  Using cached mistune-0.8.4-py2.py3-none-any.whl (16 kB)\n",
            "Collecting ml-metadata==1.7.0\n",
            "  Using cached ml_metadata-1.7.0-cp38-cp38-manylinux_2_12_x86_64.manylinux2010_x86_64.whl (6.6 MB)\n",
            "Collecting ml-pipelines-sdk==1.7.0\n",
            "  Using cached ml_pipelines_sdk-1.7.0-py3-none-any.whl (1.3 MB)\n",
            "Collecting nbclient==0.6.6\n",
            "  Using cached nbclient-0.6.6-py3-none-any.whl (71 kB)\n",
            "Collecting nbconvert==6.5.0\n",
            "  Using cached nbconvert-6.5.0-py3-none-any.whl (561 kB)\n",
            "Collecting nbformat==5.4.0\n",
            "  Using cached nbformat-5.4.0-py3-none-any.whl (73 kB)\n",
            "Collecting nest-asyncio==1.5.5\n",
            "  Using cached nest_asyncio-1.5.5-py3-none-any.whl (5.2 kB)\n",
            "Collecting notebook==6.4.12\n",
            "  Using cached notebook-6.4.12-py3-none-any.whl (9.9 MB)\n",
            "Requirement already satisfied: numpy==1.22.4 in /usr/local/lib/python3.8/site-packages (from -r /content/ML_MLO-Submission_1/requirements.txt (line 106)) (1.22.4)\n",
            "Requirement already satisfied: oauth2client==4.1.3 in /usr/local/lib/python3.8/site-packages (from -r /content/ML_MLO-Submission_1/requirements.txt (line 107)) (4.1.3)\n",
            "Collecting oauthlib==3.2.0\n",
            "  Using cached oauthlib-3.2.0-py3-none-any.whl (151 kB)\n",
            "Requirement already satisfied: opt-einsum==3.3.0 in /usr/local/lib/python3.8/site-packages (from -r /content/ML_MLO-Submission_1/requirements.txt (line 109)) (3.3.0)\n",
            "Collecting orjson==3.7.7\n",
            "  Using cached orjson-3.7.7-cp38-cp38-manylinux_2_28_x86_64.whl (272 kB)\n",
            "Collecting overrides==6.1.0\n",
            "  Using cached overrides-6.1.0-py3-none-any.whl (14 kB)\n",
            "Requirement already satisfied: packaging==20.9 in /usr/local/lib/python3.8/site-packages (from -r /content/ML_MLO-Submission_1/requirements.txt (line 112)) (20.9)\n",
            "Collecting pandas==1.4.3\n",
            "  Using cached pandas-1.4.3-cp38-cp38-manylinux_2_17_x86_64.manylinux2014_x86_64.whl (11.7 MB)\n",
            "Requirement already satisfied: pandocfilters==1.5.0 in /usr/local/lib/python3.8/site-packages (from -r /content/ML_MLO-Submission_1/requirements.txt (line 114)) (1.5.0)\n",
            "Requirement already satisfied: parso==0.8.3 in /usr/local/lib/python3.8/site-packages (from -r /content/ML_MLO-Submission_1/requirements.txt (line 115)) (0.8.3)\n",
            "Requirement already satisfied: pickleshare==0.7.5 in /usr/local/lib/python3.8/site-packages (from -r /content/ML_MLO-Submission_1/requirements.txt (line 116)) (0.7.5)\n",
            "Collecting Pillow==9.2.0\n",
            "  Using cached Pillow-9.2.0-cp38-cp38-manylinux_2_28_x86_64.whl (3.2 MB)\n",
            "Requirement already satisfied: portpicker==1.5.2 in /usr/local/lib/python3.8/site-packages (from -r /content/ML_MLO-Submission_1/requirements.txt (line 118)) (1.5.2)\n",
            "Collecting prometheus-client==0.14.1\n",
            "  Using cached prometheus_client-0.14.1-py3-none-any.whl (59 kB)\n",
            "Collecting prompt-toolkit==3.0.30\n",
            "  Using cached prompt_toolkit-3.0.30-py3-none-any.whl (381 kB)\n",
            "Collecting proto-plus==1.20.6\n",
            "  Using cached proto_plus-1.20.6-py3-none-any.whl (46 kB)\n",
            "Collecting protobuf==3.19.4\n",
            "  Using cached protobuf-3.19.4-cp38-cp38-manylinux_2_17_x86_64.manylinux2014_x86_64.whl (1.1 MB)\n",
            "Collecting psutil==5.9.1\n",
            "  Using cached psutil-5.9.1-cp38-cp38-manylinux_2_12_x86_64.manylinux2010_x86_64.manylinux_2_17_x86_64.manylinux2014_x86_64.whl (284 kB)\n",
            "Collecting pyarrow==5.0.0\n",
            "  Using cached pyarrow-5.0.0-cp38-cp38-manylinux2014_x86_64.whl (23.6 MB)\n",
            "Requirement already satisfied: pyasn1==0.4.8 in /usr/local/lib/python3.8/site-packages (from -r /content/ML_MLO-Submission_1/requirements.txt (line 125)) (0.4.8)\n",
            "Requirement already satisfied: pyasn1-modules==0.2.8 in /usr/local/lib/python3.8/site-packages (from -r /content/ML_MLO-Submission_1/requirements.txt (line 126)) (0.2.8)\n",
            "Requirement already satisfied: pycparser==2.21 in /usr/local/lib/python3.8/site-packages (from -r /content/ML_MLO-Submission_1/requirements.txt (line 127)) (2.21)\n",
            "Requirement already satisfied: pydot==1.4.2 in /usr/local/lib/python3.8/site-packages (from -r /content/ML_MLO-Submission_1/requirements.txt (line 128)) (1.4.2)\n",
            "Requirement already satisfied: pyfarmhash==0.3.2 in /usr/local/lib/python3.8/site-packages (from -r /content/ML_MLO-Submission_1/requirements.txt (line 129)) (0.3.2)\n",
            "Collecting Pygments==2.12.0\n",
            "  Using cached Pygments-2.12.0-py3-none-any.whl (1.1 MB)\n",
            "Collecting pymongo==3.12.3\n",
            "  Using cached pymongo-3.12.3-cp38-cp38-manylinux_2_17_x86_64.manylinux2014_x86_64.whl (527 kB)\n",
            "Collecting pyparsing==2.4.7\n",
            "  Using cached pyparsing-2.4.7-py2.py3-none-any.whl (67 kB)\n",
            "Collecting pyrsistent==0.18.1\n",
            "  Using cached pyrsistent-0.18.1-cp38-cp38-manylinux_2_17_x86_64.manylinux2014_x86_64.whl (119 kB)\n",
            "Requirement already satisfied: python-dateutil==2.8.2 in /usr/local/lib/python3.8/site-packages (from -r /content/ML_MLO-Submission_1/requirements.txt (line 134)) (2.8.2)\n",
            "Collecting pytz==2022.1\n",
            "  Using cached pytz-2022.1-py2.py3-none-any.whl (503 kB)\n",
            "\u001b[31mERROR: Ignored the following versions that require a different python version: 2.10.0 Requires-Python >=2.7,<3.0; 2.3.0 Requires-Python >=2.7,<3.0; 2.4.0 Requires-Python >=2.7,<3.0; 2.5.0 Requires-Python >=2.7,<3.0; 2.6.0 Requires-Python >=2.7,<3.0; 2.7.0 Requires-Python >=2.7,<3.0; 2.8.0 Requires-Python >=2.7,<3.0; 2.9.0 Requires-Python >=2.7,<3.0\u001b[0m\u001b[31m\n",
            "\u001b[0m\u001b[31mERROR: Could not find a version that satisfies the requirement pywin32==227 (from versions: none)\u001b[0m\u001b[31m\n",
            "\u001b[0m\u001b[31mERROR: No matching distribution found for pywin32==227\u001b[0m\u001b[31m\n",
            "\u001b[0m"
          ]
        }
      ],
      "source": [
        "!pip install -r /content/ML_MLO-Submission_1/requirements.txt --user"
      ]
    },
    {
      "cell_type": "code",
      "execution_count": null,
      "metadata": {
        "colab": {
          "background_save": true
        },
        "id": "vpQ_gXFKid1L"
      },
      "outputs": [],
      "source": [
        "import tensorflow as tf\n",
        "from tfx.components import CsvExampleGen, StatisticsGen, SchemaGen, ExampleValidator, Transform, Trainer, Tuner\n",
        "from tfx.proto import example_gen_pb2\n",
        "from tfx.orchestration.experimental.interactive.interactive_context import InteractiveContext\n",
        "import os"
      ]
    },
    {
      "cell_type": "markdown",
      "metadata": {
        "id": "Md_JVL18ikVC"
      },
      "source": [
        "## **Set Variabel**"
      ]
    },
    {
      "cell_type": "code",
      "execution_count": null,
      "metadata": {
        "colab": {
          "background_save": true
        },
        "id": "pYfHoS5QijQK"
      },
      "outputs": [],
      "source": [
        "PIPELINE_NAME = \"emailspam-pipeline\"\n",
        "SCHEMA_PIPELINE_NAME = \"emailspam-tfdv-schema\"\n",
        "\n",
        "#Directory untuk menyimpan artifact yang akan dihasilkan\n",
        "PIPELINE_ROOT = os.path.join('pipelines', PIPELINE_NAME)\n",
        "\n",
        "# Path to a SQLite DB file to use as an MLMD storage.\n",
        "METADATA_PATH = os.path.join('metadata', PIPELINE_NAME, 'metadata.db')\n",
        "\n",
        "# Output directory where created models from the pipeline will be exported.\n",
        "SERVING_MODEL_DIR = os.path.join('serving_model', PIPELINE_NAME)\n",
        "\n",
        "# from absl import logging\n",
        "# logging.set_verbosity(logging.INFO)"
      ]
    },
    {
      "cell_type": "code",
      "execution_count": null,
      "metadata": {
        "colab": {
          "background_save": true
        },
        "id": "ISeKDM5yisY0"
      },
      "outputs": [],
      "source": [
        "DATA_ROOT = \"/content/ML_MLO-Submission_1/data\""
      ]
    },
    {
      "cell_type": "markdown",
      "metadata": {
        "id": "4xb3w5o_yaBT"
      },
      "source": [
        "## **Membuat Tahapan Data Ingestion**"
      ]
    },
    {
      "cell_type": "markdown",
      "source": [
        "**1. example_gen**"
      ],
      "metadata": {
        "id": "BdTanrtP8G3D"
      }
    },
    {
      "cell_type": "code",
      "execution_count": null,
      "metadata": {
        "colab": {
          "background_save": true
        },
        "id": "SC-7HF4lyZdb"
      },
      "outputs": [],
      "source": [
        "output = example_gen_pb2.Output(\n",
        "    split_config = example_gen_pb2.SplitConfig(splits=[\n",
        "        example_gen_pb2.SplitConfig.Split(name=\"train\", hash_buckets=8),\n",
        "        example_gen_pb2.SplitConfig.Split(name=\"eval\", hash_buckets=2)\n",
        "    ])\n",
        ")\n",
        "example_gen = CsvExampleGen(input_base=DATA_ROOT, output_config=output)"
      ]
    },
    {
      "cell_type": "code",
      "execution_count": null,
      "metadata": {
        "colab": {
          "background_save": true
        },
        "id": "k8GKahHayfdA",
        "outputId": "5bb0bfc0-98d0-432c-a822-65df406bfd0e"
      },
      "outputs": [
        {
          "name": "stderr",
          "output_type": "stream",
          "text": [
            "WARNING:absl:InteractiveContext metadata_connection_config not provided: using SQLite ML Metadata database at pipelines/emailspam-pipeline/metadata.sqlite.\n"
          ]
        }
      ],
      "source": [
        "interactive_context = InteractiveContext(pipeline_root=PIPELINE_ROOT)"
      ]
    },
    {
      "cell_type": "code",
      "execution_count": null,
      "metadata": {
        "colab": {
          "background_save": true
        },
        "id": "x-Nbm0y4yjnE",
        "outputId": "0de18add-2ef4-409f-c204-dbd330a9503b"
      },
      "outputs": [
        {
          "ename": "RuntimeError",
          "evalue": "ignored",
          "output_type": "error",
          "traceback": [
            "\u001b[0;31m---------------------------------------------------------------------------\u001b[0m",
            "\u001b[0;31mRuntimeError\u001b[0m                              Traceback (most recent call last)",
            "\u001b[0;32m<ipython-input-26-901cb9c39aa4>\u001b[0m in \u001b[0;36m<module>\u001b[0;34m\u001b[0m\n\u001b[0;32m----> 1\u001b[0;31m \u001b[0minteractive_context\u001b[0m\u001b[0;34m.\u001b[0m\u001b[0mrun\u001b[0m\u001b[0;34m(\u001b[0m\u001b[0mexample_gen\u001b[0m\u001b[0;34m)\u001b[0m\u001b[0;34m\u001b[0m\u001b[0;34m\u001b[0m\u001b[0m\n\u001b[0m",
            "\u001b[0;32m/usr/local/lib/python3.8/site-packages/tfx/orchestration/experimental/interactive/notebook_utils.py\u001b[0m in \u001b[0;36mrun_if_ipython\u001b[0;34m(*args, **kwargs)\u001b[0m\n\u001b[1;32m     29\u001b[0m       \u001b[0;31m# __IPYTHON__ variable is set by IPython, see\u001b[0m\u001b[0;34m\u001b[0m\u001b[0;34m\u001b[0m\u001b[0;34m\u001b[0m\u001b[0m\n\u001b[1;32m     30\u001b[0m       \u001b[0;31m# https://ipython.org/ipython-doc/rel-0.10.2/html/interactive/reference.html#embedding-ipython.\u001b[0m\u001b[0;34m\u001b[0m\u001b[0;34m\u001b[0m\u001b[0;34m\u001b[0m\u001b[0m\n\u001b[0;32m---> 31\u001b[0;31m       \u001b[0;32mreturn\u001b[0m \u001b[0mfn\u001b[0m\u001b[0;34m(\u001b[0m\u001b[0;34m*\u001b[0m\u001b[0margs\u001b[0m\u001b[0;34m,\u001b[0m \u001b[0;34m**\u001b[0m\u001b[0mkwargs\u001b[0m\u001b[0;34m)\u001b[0m\u001b[0;34m\u001b[0m\u001b[0;34m\u001b[0m\u001b[0m\n\u001b[0m\u001b[1;32m     32\u001b[0m     \u001b[0;32melse\u001b[0m\u001b[0;34m:\u001b[0m\u001b[0;34m\u001b[0m\u001b[0;34m\u001b[0m\u001b[0m\n\u001b[1;32m     33\u001b[0m       logging.warning(\n",
            "\u001b[0;32m/usr/local/lib/python3.8/site-packages/tfx/orchestration/experimental/interactive/interactive_context.py\u001b[0m in \u001b[0;36mrun\u001b[0;34m(self, component, enable_cache, beam_pipeline_args)\u001b[0m\n\u001b[1;32m    162\u001b[0m         \u001b[0mtelemetry_utils\u001b[0m\u001b[0;34m.\u001b[0m\u001b[0mLABEL_TFX_RUNNER\u001b[0m\u001b[0;34m:\u001b[0m \u001b[0mrunner_label\u001b[0m\u001b[0;34m,\u001b[0m\u001b[0;34m\u001b[0m\u001b[0;34m\u001b[0m\u001b[0m\n\u001b[1;32m    163\u001b[0m     }):\n\u001b[0;32m--> 164\u001b[0;31m       \u001b[0mexecution_id\u001b[0m \u001b[0;34m=\u001b[0m \u001b[0mlauncher\u001b[0m\u001b[0;34m.\u001b[0m\u001b[0mlaunch\u001b[0m\u001b[0;34m(\u001b[0m\u001b[0;34m)\u001b[0m\u001b[0;34m.\u001b[0m\u001b[0mexecution_id\u001b[0m\u001b[0;34m\u001b[0m\u001b[0;34m\u001b[0m\u001b[0m\n\u001b[0m\u001b[1;32m    165\u001b[0m \u001b[0;34m\u001b[0m\u001b[0m\n\u001b[1;32m    166\u001b[0m     return execution_result.ExecutionResult(\n",
            "\u001b[0;32m/usr/local/lib/python3.8/site-packages/tfx/orchestration/launcher/base_component_launcher.py\u001b[0m in \u001b[0;36mlaunch\u001b[0;34m(self)\u001b[0m\n\u001b[1;32m    204\u001b[0m       \u001b[0;31m# be immutable in this context.\u001b[0m\u001b[0;34m\u001b[0m\u001b[0;34m\u001b[0m\u001b[0;34m\u001b[0m\u001b[0m\n\u001b[1;32m    205\u001b[0m       \u001b[0;31m# output_dict can still be changed, specifically properties.\u001b[0m\u001b[0;34m\u001b[0m\u001b[0;34m\u001b[0m\u001b[0;34m\u001b[0m\u001b[0m\n\u001b[0;32m--> 206\u001b[0;31m       self._run_executor(execution_decision.execution_id,\n\u001b[0m\u001b[1;32m    207\u001b[0m                          \u001b[0mcopy\u001b[0m\u001b[0;34m.\u001b[0m\u001b[0mdeepcopy\u001b[0m\u001b[0;34m(\u001b[0m\u001b[0mexecution_decision\u001b[0m\u001b[0;34m.\u001b[0m\u001b[0minput_dict\u001b[0m\u001b[0;34m)\u001b[0m\u001b[0;34m,\u001b[0m\u001b[0;34m\u001b[0m\u001b[0;34m\u001b[0m\u001b[0m\n\u001b[1;32m    208\u001b[0m                          \u001b[0mexecution_decision\u001b[0m\u001b[0;34m.\u001b[0m\u001b[0moutput_dict\u001b[0m\u001b[0;34m,\u001b[0m\u001b[0;34m\u001b[0m\u001b[0;34m\u001b[0m\u001b[0m\n",
            "\u001b[0;32m/usr/local/lib/python3.8/site-packages/tfx/orchestration/launcher/in_process_component_launcher.py\u001b[0m in \u001b[0;36m_run_executor\u001b[0;34m(self, execution_id, input_dict, output_dict, exec_properties)\u001b[0m\n\u001b[1;32m     71\u001b[0m     \u001b[0;31m# be immutable in this context.\u001b[0m\u001b[0;34m\u001b[0m\u001b[0;34m\u001b[0m\u001b[0;34m\u001b[0m\u001b[0m\n\u001b[1;32m     72\u001b[0m     \u001b[0;31m# output_dict can still be changed, specifically properties.\u001b[0m\u001b[0;34m\u001b[0m\u001b[0;34m\u001b[0m\u001b[0;34m\u001b[0m\u001b[0m\n\u001b[0;32m---> 73\u001b[0;31m     executor.Do(\n\u001b[0m\u001b[1;32m     74\u001b[0m         copy.deepcopy(input_dict), output_dict, copy.deepcopy(exec_properties))\n",
            "\u001b[0;32m/usr/local/lib/python3.8/site-packages/tfx/components/example_gen/base_example_gen_executor.py\u001b[0m in \u001b[0;36mDo\u001b[0;34m(self, input_dict, output_dict, exec_properties)\u001b[0m\n\u001b[1;32m    277\u001b[0m     \u001b[0mlogging\u001b[0m\u001b[0;34m.\u001b[0m\u001b[0minfo\u001b[0m\u001b[0;34m(\u001b[0m\u001b[0;34m'Generating examples.'\u001b[0m\u001b[0;34m)\u001b[0m\u001b[0;34m\u001b[0m\u001b[0;34m\u001b[0m\u001b[0m\n\u001b[1;32m    278\u001b[0m     \u001b[0;32mwith\u001b[0m \u001b[0mself\u001b[0m\u001b[0;34m.\u001b[0m\u001b[0m_make_beam_pipeline\u001b[0m\u001b[0;34m(\u001b[0m\u001b[0;34m)\u001b[0m \u001b[0;32mas\u001b[0m \u001b[0mpipeline\u001b[0m\u001b[0;34m:\u001b[0m\u001b[0;34m\u001b[0m\u001b[0;34m\u001b[0m\u001b[0m\n\u001b[0;32m--> 279\u001b[0;31m       \u001b[0mexample_splits\u001b[0m \u001b[0;34m=\u001b[0m \u001b[0mself\u001b[0m\u001b[0;34m.\u001b[0m\u001b[0mGenerateExamplesByBeam\u001b[0m\u001b[0;34m(\u001b[0m\u001b[0mpipeline\u001b[0m\u001b[0;34m,\u001b[0m \u001b[0mexec_properties\u001b[0m\u001b[0;34m)\u001b[0m\u001b[0;34m\u001b[0m\u001b[0;34m\u001b[0m\u001b[0m\n\u001b[0m\u001b[1;32m    280\u001b[0m \u001b[0;34m\u001b[0m\u001b[0m\n\u001b[1;32m    281\u001b[0m       \u001b[0;31m# pylint: disable=expression-not-assigned, no-value-for-parameter\u001b[0m\u001b[0;34m\u001b[0m\u001b[0;34m\u001b[0m\u001b[0;34m\u001b[0m\u001b[0m\n",
            "\u001b[0;32m/usr/local/lib/python3.8/site-packages/tfx/components/example_gen/base_example_gen_executor.py\u001b[0m in \u001b[0;36mGenerateExamplesByBeam\u001b[0;34m(self, pipeline, exec_properties)\u001b[0m\n\u001b[1;32m    199\u001b[0m         \u001b[0mbuckets\u001b[0m\u001b[0;34m.\u001b[0m\u001b[0mappend\u001b[0m\u001b[0;34m(\u001b[0m\u001b[0mtotal_buckets\u001b[0m\u001b[0;34m)\u001b[0m\u001b[0;34m\u001b[0m\u001b[0;34m\u001b[0m\u001b[0m\n\u001b[1;32m    200\u001b[0m       example_splits = (\n\u001b[0;32m--> 201\u001b[0;31m           \u001b[0mpipeline\u001b[0m\u001b[0;34m\u001b[0m\u001b[0;34m\u001b[0m\u001b[0m\n\u001b[0m\u001b[1;32m    202\u001b[0m           \u001b[0;34m|\u001b[0m \u001b[0;34m'InputToRecord'\u001b[0m \u001b[0;34m>>\u001b[0m\u001b[0;34m\u001b[0m\u001b[0;34m\u001b[0m\u001b[0m\n\u001b[1;32m    203\u001b[0m           \u001b[0;31m# pylint: disable=no-value-for-parameter\u001b[0m\u001b[0;34m\u001b[0m\u001b[0;34m\u001b[0m\u001b[0;34m\u001b[0m\u001b[0m\n",
            "\u001b[0;32m/usr/local/lib/python3.8/site-packages/apache_beam/transforms/ptransform.py\u001b[0m in \u001b[0;36m__ror__\u001b[0;34m(self, pvalueish, _unused)\u001b[0m\n\u001b[1;32m   1093\u001b[0m \u001b[0;34m\u001b[0m\u001b[0m\n\u001b[1;32m   1094\u001b[0m   \u001b[0;32mdef\u001b[0m \u001b[0m__ror__\u001b[0m\u001b[0;34m(\u001b[0m\u001b[0mself\u001b[0m\u001b[0;34m,\u001b[0m \u001b[0mpvalueish\u001b[0m\u001b[0;34m,\u001b[0m \u001b[0m_unused\u001b[0m\u001b[0;34m=\u001b[0m\u001b[0;32mNone\u001b[0m\u001b[0;34m)\u001b[0m\u001b[0;34m:\u001b[0m\u001b[0;34m\u001b[0m\u001b[0;34m\u001b[0m\u001b[0m\n\u001b[0;32m-> 1095\u001b[0;31m     \u001b[0;32mreturn\u001b[0m \u001b[0mself\u001b[0m\u001b[0;34m.\u001b[0m\u001b[0mtransform\u001b[0m\u001b[0;34m.\u001b[0m\u001b[0m__ror__\u001b[0m\u001b[0;34m(\u001b[0m\u001b[0mpvalueish\u001b[0m\u001b[0;34m,\u001b[0m \u001b[0mself\u001b[0m\u001b[0;34m.\u001b[0m\u001b[0mlabel\u001b[0m\u001b[0;34m)\u001b[0m\u001b[0;34m\u001b[0m\u001b[0;34m\u001b[0m\u001b[0m\n\u001b[0m\u001b[1;32m   1096\u001b[0m \u001b[0;34m\u001b[0m\u001b[0m\n\u001b[1;32m   1097\u001b[0m   \u001b[0;32mdef\u001b[0m \u001b[0mexpand\u001b[0m\u001b[0;34m(\u001b[0m\u001b[0mself\u001b[0m\u001b[0;34m,\u001b[0m \u001b[0mpvalue\u001b[0m\u001b[0;34m)\u001b[0m\u001b[0;34m:\u001b[0m\u001b[0;34m\u001b[0m\u001b[0;34m\u001b[0m\u001b[0m\n",
            "\u001b[0;32m/usr/local/lib/python3.8/site-packages/apache_beam/transforms/ptransform.py\u001b[0m in \u001b[0;36m__ror__\u001b[0;34m(self, left, label)\u001b[0m\n\u001b[1;32m    615\u001b[0m     \u001b[0mpvalueish\u001b[0m \u001b[0;34m=\u001b[0m \u001b[0m_SetInputPValues\u001b[0m\u001b[0;34m(\u001b[0m\u001b[0;34m)\u001b[0m\u001b[0;34m.\u001b[0m\u001b[0mvisit\u001b[0m\u001b[0;34m(\u001b[0m\u001b[0mpvalueish\u001b[0m\u001b[0;34m,\u001b[0m \u001b[0mreplacements\u001b[0m\u001b[0;34m)\u001b[0m\u001b[0;34m\u001b[0m\u001b[0;34m\u001b[0m\u001b[0m\n\u001b[1;32m    616\u001b[0m     \u001b[0mself\u001b[0m\u001b[0;34m.\u001b[0m\u001b[0mpipeline\u001b[0m \u001b[0;34m=\u001b[0m \u001b[0mp\u001b[0m\u001b[0;34m\u001b[0m\u001b[0;34m\u001b[0m\u001b[0m\n\u001b[0;32m--> 617\u001b[0;31m     \u001b[0mresult\u001b[0m \u001b[0;34m=\u001b[0m \u001b[0mp\u001b[0m\u001b[0;34m.\u001b[0m\u001b[0mapply\u001b[0m\u001b[0;34m(\u001b[0m\u001b[0mself\u001b[0m\u001b[0;34m,\u001b[0m \u001b[0mpvalueish\u001b[0m\u001b[0;34m,\u001b[0m \u001b[0mlabel\u001b[0m\u001b[0;34m)\u001b[0m\u001b[0;34m\u001b[0m\u001b[0;34m\u001b[0m\u001b[0m\n\u001b[0m\u001b[1;32m    618\u001b[0m     \u001b[0;32mif\u001b[0m \u001b[0mdeferred\u001b[0m\u001b[0;34m:\u001b[0m\u001b[0;34m\u001b[0m\u001b[0;34m\u001b[0m\u001b[0m\n\u001b[1;32m    619\u001b[0m       \u001b[0;32mreturn\u001b[0m \u001b[0mresult\u001b[0m\u001b[0;34m\u001b[0m\u001b[0;34m\u001b[0m\u001b[0m\n",
            "\u001b[0;32m/usr/local/lib/python3.8/site-packages/apache_beam/pipeline.py\u001b[0m in \u001b[0;36mapply\u001b[0;34m(self, transform, pvalueish, label)\u001b[0m\n\u001b[1;32m    664\u001b[0m       \u001b[0mold_label\u001b[0m\u001b[0;34m,\u001b[0m \u001b[0mtransform\u001b[0m\u001b[0;34m.\u001b[0m\u001b[0mlabel\u001b[0m \u001b[0;34m=\u001b[0m \u001b[0mtransform\u001b[0m\u001b[0;34m.\u001b[0m\u001b[0mlabel\u001b[0m\u001b[0;34m,\u001b[0m \u001b[0mlabel\u001b[0m\u001b[0;34m\u001b[0m\u001b[0;34m\u001b[0m\u001b[0m\n\u001b[1;32m    665\u001b[0m       \u001b[0;32mtry\u001b[0m\u001b[0;34m:\u001b[0m\u001b[0;34m\u001b[0m\u001b[0;34m\u001b[0m\u001b[0m\n\u001b[0;32m--> 666\u001b[0;31m         \u001b[0;32mreturn\u001b[0m \u001b[0mself\u001b[0m\u001b[0;34m.\u001b[0m\u001b[0mapply\u001b[0m\u001b[0;34m(\u001b[0m\u001b[0mtransform\u001b[0m\u001b[0;34m,\u001b[0m \u001b[0mpvalueish\u001b[0m\u001b[0;34m)\u001b[0m\u001b[0;34m\u001b[0m\u001b[0;34m\u001b[0m\u001b[0m\n\u001b[0m\u001b[1;32m    667\u001b[0m       \u001b[0;32mfinally\u001b[0m\u001b[0;34m:\u001b[0m\u001b[0;34m\u001b[0m\u001b[0;34m\u001b[0m\u001b[0m\n\u001b[1;32m    668\u001b[0m         \u001b[0mtransform\u001b[0m\u001b[0;34m.\u001b[0m\u001b[0mlabel\u001b[0m \u001b[0;34m=\u001b[0m \u001b[0mold_label\u001b[0m\u001b[0;34m\u001b[0m\u001b[0;34m\u001b[0m\u001b[0m\n",
            "\u001b[0;32m/usr/local/lib/python3.8/site-packages/apache_beam/pipeline.py\u001b[0m in \u001b[0;36mapply\u001b[0;34m(self, transform, pvalueish, label)\u001b[0m\n\u001b[1;32m    710\u001b[0m         \u001b[0mtransform\u001b[0m\u001b[0;34m.\u001b[0m\u001b[0mtype_check_inputs\u001b[0m\u001b[0;34m(\u001b[0m\u001b[0mpvalueish\u001b[0m\u001b[0;34m)\u001b[0m\u001b[0;34m\u001b[0m\u001b[0;34m\u001b[0m\u001b[0m\n\u001b[1;32m    711\u001b[0m \u001b[0;34m\u001b[0m\u001b[0m\n\u001b[0;32m--> 712\u001b[0;31m       \u001b[0mpvalueish_result\u001b[0m \u001b[0;34m=\u001b[0m \u001b[0mself\u001b[0m\u001b[0;34m.\u001b[0m\u001b[0mrunner\u001b[0m\u001b[0;34m.\u001b[0m\u001b[0mapply\u001b[0m\u001b[0;34m(\u001b[0m\u001b[0mtransform\u001b[0m\u001b[0;34m,\u001b[0m \u001b[0mpvalueish\u001b[0m\u001b[0;34m,\u001b[0m \u001b[0mself\u001b[0m\u001b[0;34m.\u001b[0m\u001b[0m_options\u001b[0m\u001b[0;34m)\u001b[0m\u001b[0;34m\u001b[0m\u001b[0;34m\u001b[0m\u001b[0m\n\u001b[0m\u001b[1;32m    713\u001b[0m \u001b[0;34m\u001b[0m\u001b[0m\n\u001b[1;32m    714\u001b[0m       \u001b[0;32mif\u001b[0m \u001b[0mtype_options\u001b[0m \u001b[0;32mis\u001b[0m \u001b[0;32mnot\u001b[0m \u001b[0;32mNone\u001b[0m \u001b[0;32mand\u001b[0m \u001b[0mtype_options\u001b[0m\u001b[0;34m.\u001b[0m\u001b[0mpipeline_type_check\u001b[0m\u001b[0;34m:\u001b[0m\u001b[0;34m\u001b[0m\u001b[0;34m\u001b[0m\u001b[0m\n",
            "\u001b[0;32m/usr/local/lib/python3.8/site-packages/apache_beam/runners/runner.py\u001b[0m in \u001b[0;36mapply\u001b[0;34m(self, transform, input, options)\u001b[0m\n\u001b[1;32m    183\u001b[0m       \u001b[0mm\u001b[0m \u001b[0;34m=\u001b[0m \u001b[0mgetattr\u001b[0m\u001b[0;34m(\u001b[0m\u001b[0mself\u001b[0m\u001b[0;34m,\u001b[0m \u001b[0;34m'apply_%s'\u001b[0m \u001b[0;34m%\u001b[0m \u001b[0mcls\u001b[0m\u001b[0;34m.\u001b[0m\u001b[0m__name__\u001b[0m\u001b[0;34m,\u001b[0m \u001b[0;32mNone\u001b[0m\u001b[0;34m)\u001b[0m\u001b[0;34m\u001b[0m\u001b[0;34m\u001b[0m\u001b[0m\n\u001b[1;32m    184\u001b[0m       \u001b[0;32mif\u001b[0m \u001b[0mm\u001b[0m\u001b[0;34m:\u001b[0m\u001b[0;34m\u001b[0m\u001b[0;34m\u001b[0m\u001b[0m\n\u001b[0;32m--> 185\u001b[0;31m         \u001b[0;32mreturn\u001b[0m \u001b[0mm\u001b[0m\u001b[0;34m(\u001b[0m\u001b[0mtransform\u001b[0m\u001b[0;34m,\u001b[0m \u001b[0minput\u001b[0m\u001b[0;34m,\u001b[0m \u001b[0moptions\u001b[0m\u001b[0;34m)\u001b[0m\u001b[0;34m\u001b[0m\u001b[0;34m\u001b[0m\u001b[0m\n\u001b[0m\u001b[1;32m    186\u001b[0m     raise NotImplementedError(\n\u001b[1;32m    187\u001b[0m         'Execution of [%s] not implemented in runner %s.' % (transform, self))\n",
            "\u001b[0;32m/usr/local/lib/python3.8/site-packages/apache_beam/runners/runner.py\u001b[0m in \u001b[0;36mapply_PTransform\u001b[0;34m(self, transform, input, options)\u001b[0m\n\u001b[1;32m    213\u001b[0m   \u001b[0;32mdef\u001b[0m \u001b[0mapply_PTransform\u001b[0m\u001b[0;34m(\u001b[0m\u001b[0mself\u001b[0m\u001b[0;34m,\u001b[0m \u001b[0mtransform\u001b[0m\u001b[0;34m,\u001b[0m \u001b[0minput\u001b[0m\u001b[0;34m,\u001b[0m \u001b[0moptions\u001b[0m\u001b[0;34m)\u001b[0m\u001b[0;34m:\u001b[0m\u001b[0;34m\u001b[0m\u001b[0;34m\u001b[0m\u001b[0m\n\u001b[1;32m    214\u001b[0m     \u001b[0;31m# The base case of apply is to call the transform's expand.\u001b[0m\u001b[0;34m\u001b[0m\u001b[0;34m\u001b[0m\u001b[0;34m\u001b[0m\u001b[0m\n\u001b[0;32m--> 215\u001b[0;31m     \u001b[0;32mreturn\u001b[0m \u001b[0mtransform\u001b[0m\u001b[0;34m.\u001b[0m\u001b[0mexpand\u001b[0m\u001b[0;34m(\u001b[0m\u001b[0minput\u001b[0m\u001b[0;34m)\u001b[0m\u001b[0;34m\u001b[0m\u001b[0;34m\u001b[0m\u001b[0m\n\u001b[0m\u001b[1;32m    216\u001b[0m \u001b[0;34m\u001b[0m\u001b[0m\n\u001b[1;32m    217\u001b[0m   def run_transform(self,\n",
            "\u001b[0;32m/usr/local/lib/python3.8/site-packages/tfx/components/example_gen/csv_example_gen/executor.py\u001b[0m in \u001b[0;36mexpand\u001b[0;34m(self, pipeline)\u001b[0m\n\u001b[1;32m    181\u001b[0m     \u001b[0mcsv_files\u001b[0m \u001b[0;34m=\u001b[0m \u001b[0mfileio\u001b[0m\u001b[0;34m.\u001b[0m\u001b[0mglob\u001b[0m\u001b[0;34m(\u001b[0m\u001b[0mself\u001b[0m\u001b[0;34m.\u001b[0m\u001b[0m_csv_pattern\u001b[0m\u001b[0;34m)\u001b[0m\u001b[0;34m\u001b[0m\u001b[0;34m\u001b[0m\u001b[0m\n\u001b[1;32m    182\u001b[0m     \u001b[0;32mif\u001b[0m \u001b[0;32mnot\u001b[0m \u001b[0mcsv_files\u001b[0m\u001b[0;34m:\u001b[0m\u001b[0;34m\u001b[0m\u001b[0;34m\u001b[0m\u001b[0m\n\u001b[0;32m--> 183\u001b[0;31m       raise RuntimeError('Split pattern {} does not match any files.'.format(\n\u001b[0m\u001b[1;32m    184\u001b[0m           self._csv_pattern))\n\u001b[1;32m    185\u001b[0m \u001b[0;34m\u001b[0m\u001b[0m\n",
            "\u001b[0;31mRuntimeError\u001b[0m: Split pattern /content/ML_MLO-Submission_1/data/* does not match any files."
          ]
        }
      ],
      "source": [
        "interactive_context.run(example_gen)"
      ]
    },
    {
      "cell_type": "markdown",
      "source": [
        "## **Membuat Tahapan Data Validation**"
      ],
      "metadata": {
        "id": "xiYq5N0C8N_W"
      }
    },
    {
      "cell_type": "markdown",
      "source": [
        "**Membuat summary statistic**\n",
        "\n",
        "**2. StatisticGen**"
      ],
      "metadata": {
        "id": "c3ZpVpGd8ZRb"
      }
    },
    {
      "cell_type": "code",
      "source": [
        "statistics_gen = StatisticsGen(\n",
        "    examples=example_gen.outputs[\"examples\"]\n",
        ")\n",
        " \n",
        " \n",
        "interactive_context.run(statistics_gen)"
      ],
      "metadata": {
        "id": "x6PuUdPZ8POz"
      },
      "execution_count": null,
      "outputs": []
    },
    {
      "cell_type": "code",
      "source": [
        "interactive_context.show(statistics_gen.outputs[\"statistics\"])"
      ],
      "metadata": {
        "id": "extF7dU48c4m"
      },
      "execution_count": null,
      "outputs": []
    },
    {
      "cell_type": "markdown",
      "source": [
        "**Membuat data schema**\n",
        "\n",
        "**3. SchemaGen**"
      ],
      "metadata": {
        "id": "0W298DRz8l96"
      }
    },
    {
      "cell_type": "code",
      "source": [
        "schema_gen = SchemaGen(    statistics=statistics_gen.outputs[\"statistics\"])\n",
        "\n",
        "interactive_context.run(schema_gen)"
      ],
      "metadata": {
        "id": "SL5kojWa8sQK"
      },
      "execution_count": null,
      "outputs": []
    },
    {
      "cell_type": "code",
      "source": [
        "interactive_context.show(schema_gen.outputs[\"schema\"])"
      ],
      "metadata": {
        "id": "pDT82-E_8zMy"
      },
      "execution_count": null,
      "outputs": []
    },
    {
      "cell_type": "markdown",
      "source": [
        "**Mengidentifikasi anomali pada dataset**\n",
        "\n",
        "**4. ExampleValidator**"
      ],
      "metadata": {
        "id": "0KlDJwfb82N6"
      }
    },
    {
      "cell_type": "code",
      "source": [
        "example_validator = ExampleValidator(\n",
        "    statistics=statistics_gen.outputs['statistics'],\n",
        "    schema=schema_gen.outputs['schema']\n",
        ")\n",
        "interactive_context.run(example_validator)"
      ],
      "metadata": {
        "id": "jw7Z0jbL829v"
      },
      "execution_count": null,
      "outputs": []
    },
    {
      "cell_type": "markdown",
      "source": [
        "Untuk menampilkan hasil dari validasi dari komponen tersebut, kita bisa menjalankan kode berikut."
      ],
      "metadata": {
        "id": "pOBwAi_89A0R"
      }
    },
    {
      "cell_type": "code",
      "source": [
        "interactive_context.show(example_validator.outputs['anomalies'])"
      ],
      "metadata": {
        "id": "TgQyJ0zX890L"
      },
      "execution_count": null,
      "outputs": []
    },
    {
      "cell_type": "markdown",
      "source": [
        "## **Membuat Tahapan Data Preprocessing**"
      ],
      "metadata": {
        "id": "OY-mVnDh9EiJ"
      }
    },
    {
      "cell_type": "code",
      "source": [
        "TRANSFORM_MODULE_FILE = \"emailspam_transform.py\""
      ],
      "metadata": {
        "id": "h_ugTMYX9Bm9"
      },
      "execution_count": null,
      "outputs": []
    },
    {
      "cell_type": "code",
      "source": [
        "%%writefile {TRANSFORM_MODULE_FILE}\n",
        "import tensorflow as tf\n",
        "LABEL_KEY = \"is_sarcastic\"\n",
        "FEATURE_KEY = \"headline\"\n",
        "def transformed_name(key):\n",
        "    \"\"\"Renaming transformed features\"\"\"\n",
        "    return key + \"_xf\"\n",
        "def preprocessing_fn(inputs):\n",
        "    \"\"\"\n",
        "    Preprocess input features into transformed features\n",
        "    \n",
        "    Args:\n",
        "        inputs: map from feature keys to raw features.\n",
        "    \n",
        "    Return:\n",
        "        outputs: map from feature keys to transformed features.    \n",
        "    \"\"\"\n",
        "    \n",
        "    outputs = {}\n",
        "    \n",
        "    outputs[transformed_name(FEATURE_KEY)] = tf.strings.lower(inputs[FEATURE_KEY])\n",
        "    \n",
        "    outputs[transformed_name(LABEL_KEY)] = tf.cast(inputs[LABEL_KEY], tf.int64)\n",
        "    \n",
        "    return outputs"
      ],
      "metadata": {
        "id": "xjCP8cE79Odi"
      },
      "execution_count": null,
      "outputs": []
    },
    {
      "cell_type": "markdown",
      "source": [
        "**5. Transform**"
      ],
      "metadata": {
        "id": "l-QDWSP49cAz"
      }
    },
    {
      "cell_type": "code",
      "source": [
        "transform  = Transform(\n",
        "    examples=example_gen.outputs['examples'],\n",
        "    schema= schema_gen.outputs['schema'],\n",
        "    module_file=os.path.abspath(TRANSFORM_MODULE_FILE)\n",
        ")\n",
        "interactive_context.run(transform)"
      ],
      "metadata": {
        "id": "wq1nGblx9cxd"
      },
      "execution_count": null,
      "outputs": []
    }
  ],
  "metadata": {
    "colab": {
      "provenance": [],
      "authorship_tag": "ABX9TyMPRmlV58gpOpO4faEsJ8IO",
      "include_colab_link": true
    },
    "kernelspec": {
      "display_name": "Python 3",
      "name": "python3"
    },
    "language_info": {
      "name": "python"
    }
  },
  "nbformat": 4,
  "nbformat_minor": 0
}